{
 "cells": [
  {
   "cell_type": "code",
   "execution_count": null,
   "metadata": {},
   "outputs": [],
   "source": [
    "import os\n",
    "import warnings\n",
    "\n",
    "import math\n",
    "import pycbc\n",
    "import numpy as np\n",
    "import pandas as pd\n",
    "from scipy import stats\n",
    "import matplotlib.pyplot as plt\n",
    "from gwpy.timeseries import TimeSeries\n",
    "from matplotlib.ticker import ScalarFormatter\n",
    "from sklearn.preprocessing import MinMaxScaler, MaxAbsScaler, StandardScaler\n",
    "from sklearn.metrics import roc_auc_score, roc_curve, auc\n",
    "\n",
    "pd.set_option('display.max_columns', None)\n",
    "pd.set_option('display.float_format', lambda x: '%.5f' % x)\n",
    "\n",
    "warnings.filterwarnings('ignore')\n",
    "\n",
    "from modules import statistical_testing"
   ]
  },
  {
   "cell_type": "markdown",
   "metadata": {},
   "source": [
    "In this project we deal with two main types of signals, the first being ones containing glitches: transient spikes in energy levels caused due to external factors such as terrestrial and electromagnetic disturbances.\n",
    "\n",
    "In this case we have obtained the glitch readings with a high level of confidence from the O3a run for all the interferometers, out of which we only consider the readings from the Livingston L1 interferometer.\n",
    "\n",
    "We load the CSV that contains all glitch times from the first half of the third observing run."
   ]
  },
  {
   "cell_type": "code",
   "execution_count": null,
   "metadata": {},
   "outputs": [],
   "source": [
    "glitches = pd.read_csv('./glitches/O3a_allifo.csv', usecols=['GPStime', 'snr', 'duration', 'confidence', 'ifo', 'label'])\n",
    "glitches = glitches[~glitches.duplicated(subset=['GPStime'], keep='first')]\n",
    "# glitches[\"glitch_present\"] = 1\n",
    "\n",
    "glitches.columns"
   ]
  },
  {
   "cell_type": "markdown",
   "metadata": {},
   "source": [
    "As you can see it contains a bunch of columns. \n",
    "- **GPStime**: The timestamp in GPS format indicating the event time.\n",
    "- **peakFreq**: The frequency at which the signal has the highest intensity.\n",
    "- **snr**: Signal-to-noise ratio, indicating the clarity of the signal.\n",
    "- **amplitude**: The strength or height of the signal wave.\n",
    "- **centralFreq**: The central frequency of the signal's spectral content.\n",
    "- **duration**: The time span of the signal event.\n",
    "- **bandwidth**: The range of frequencies covered by the signal.\n",
    "- **chisq**: The chi-squared statistic for assessing signal fit quality.\n",
    "- **chisqDof**: The degrees of freedom used in the chi-squared test.\n",
    "- **confidence**: The likelihood or certainty of the detection.\n",
    "- **id**: A unique identifier for the signal event.\n",
    "- **ifo**: The interferometer associated with the signal detection.\n",
    "- **label**: Classification or annotation of the event.\n",
    "- **imgUrl**: Link to an image or visual representation of the signal.\n",
    "- **Q-value**: Quality factor indicating the sharpness of the signal.\n",
    "\n",
    "I will be removing the columns that are not relevant to us.\n",
    "\n",
    "Let's take a look at the **label** column to see all the different glitch classes."
   ]
  },
  {
   "cell_type": "code",
   "execution_count": null,
   "metadata": {},
   "outputs": [],
   "source": [
    "glitches['label'].unique()"
   ]
  },
  {
   "cell_type": "markdown",
   "metadata": {},
   "source": [
    "The second type of signal we are dealing with is clean signals that do not have any glitch present in them. These sections have been sourced from times during the O3a run where there are relatively stable levels of energy between areas of "
   ]
  }
 ],
 "metadata": {
  "language_info": {
   "name": "python"
  }
 },
 "nbformat": 4,
 "nbformat_minor": 2
}
