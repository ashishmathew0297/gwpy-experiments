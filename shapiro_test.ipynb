{
 "cells": [
  {
   "cell_type": "code",
   "execution_count": 1,
   "id": "0d918c0a-6c4d-4b60-84db-11483c71c1bb",
   "metadata": {},
   "outputs": [
    {
     "name": "stderr",
     "output_type": "stream",
     "text": [
      "PyCBC.libutils: pkg-config call failed, setting NO_PKGCONFIG=1\n"
     ]
    }
   ],
   "source": [
    "import warnings\n",
    "warnings.filterwarnings('ignore')\n",
    "\n",
    "import math\n",
    "import pycbc\n",
    "import numpy as np\n",
    "import pandas as pd\n",
    "from scipy import stats\n",
    "import matplotlib.pyplot as plt\n",
    "from gwpy.timeseries import TimeSeries\n",
    "from matplotlib.ticker import ScalarFormatter\n"
   ]
  },
  {
   "cell_type": "code",
   "execution_count": 2,
   "id": "c9719edc",
   "metadata": {},
   "outputs": [],
   "source": [
    "from modules import normality_tests"
   ]
  },
  {
   "cell_type": "markdown",
   "id": "20902f49-3830-498c-bff8-f51758ffcc61",
   "metadata": {},
   "source": [
    "We load the CSV that contains all glitch times from the first half of the third observing run."
   ]
  },
  {
   "cell_type": "code",
   "execution_count": 3,
   "id": "44dda773-3b93-41cc-b659-fcd4a0e30d5c",
   "metadata": {},
   "outputs": [
    {
     "data": {
      "text/plain": [
       "Index(['GPStime', 'peakFreq', 'snr', 'amplitude', 'centralFreq', 'duration',\n",
       "       'bandwidth', 'chisq', 'chisqDof', 'confidence', 'id', 'ifo', 'label',\n",
       "       'imgUrl', 'Q-value'],\n",
       "      dtype='object')"
      ]
     },
     "execution_count": 3,
     "metadata": {},
     "output_type": "execute_result"
    }
   ],
   "source": [
    "glitches = pd.read_csv('./glitches/O3a_allifo.csv')\n",
    "glitches.columns"
   ]
  },
  {
   "cell_type": "code",
   "execution_count": 4,
   "id": "754a7c47",
   "metadata": {},
   "outputs": [],
   "source": [
    "glitches = glitches[~glitches.duplicated(subset=['GPStime'], keep='first')]"
   ]
  },
  {
   "cell_type": "markdown",
   "id": "1e59afa3-ad78-4356-b153-842a4026175f",
   "metadata": {},
   "source": [
    "As you can see it contains a bunch of columns. \n",
    "- **GPStime**: The timestamp in GPS format indicating the event time.\n",
    "- **peakFreq**: The frequency at which the signal has the highest intensity.\n",
    "- **snr**: Signal-to-noise ratio, indicating the clarity of the signal.\n",
    "- **amplitude**: The strength or height of the signal wave.\n",
    "- **centralFreq**: The central frequency of the signal's spectral content.\n",
    "- **duration**: The time span of the signal event.\n",
    "- **bandwidth**: The range of frequencies covered by the signal.\n",
    "- **chisq**: The chi-squared statistic for assessing signal fit quality.\n",
    "- **chisqDof**: The degrees of freedom used in the chi-squared test.\n",
    "- **confidence**: The likelihood or certainty of the detection.\n",
    "- **id**: A unique identifier for the signal event.\n",
    "- **ifo**: The interferometer associated with the signal detection.\n",
    "- **label**: Classification or annotation of the event.\n",
    "- **imgUrl**: Link to an image or visual representation of the signal.\n",
    "- **Q-value**: Quality factor indicating the sharpness of the signal.\n",
    "\n",
    "I will be removing the columns that are not relevant to us.\n",
    "\n",
    "Let's take a look at the **label** column to see all the different glitch classes."
   ]
  },
  {
   "cell_type": "code",
   "execution_count": 5,
   "id": "43268dcf",
   "metadata": {},
   "outputs": [],
   "source": [
    "glitches = glitches.drop(['peakFreq','amplitude','centralFreq','bandwidth','chisq','chisqDof','id','imgUrl','Q-value'], axis=1)"
   ]
  },
  {
   "cell_type": "code",
   "execution_count": 6,
   "id": "09e162f2",
   "metadata": {},
   "outputs": [
    {
     "data": {
      "text/plain": [
       "Index(['GPStime', 'snr', 'duration', 'confidence', 'ifo', 'label'], dtype='object')"
      ]
     },
     "execution_count": 6,
     "metadata": {},
     "output_type": "execute_result"
    }
   ],
   "source": [
    "glitches.columns"
   ]
  },
  {
   "cell_type": "code",
   "execution_count": 7,
   "id": "78115f48-943a-4032-a630-0f33e4bf8497",
   "metadata": {},
   "outputs": [
    {
     "data": {
      "text/plain": [
       "array(['Extremely_Loud', 'Scattered_Light', 'Scratchy',\n",
       "       'Power_Line', 'Koi_Fish', 'Whistle',\n",
       "       'Low_Frequency_Burst', 'Tomte', 'Repeating_Blips',\n",
       "       'Fast_Scattering', 'Blip', 'Blip_Low_Frequency',\n",
       "       'Violin_Mode', 'Helix', 'None_of_the_Above',\n",
       "       'Low_Frequency_Lines', 'Wandering_Line', 'No_Glitch',\n",
       "       'Air_Compressor', 'Chirp', 'Light_Modulation',\n",
       "       'Paired_Doves', '1400Ripples', '1080Lines'], dtype=object)"
      ]
     },
     "execution_count": 7,
     "metadata": {},
     "output_type": "execute_result"
    }
   ],
   "source": [
    "glitches['label'].unique()"
   ]
  },
  {
   "cell_type": "code",
   "execution_count": 8,
   "id": "6e9c4193",
   "metadata": {},
   "outputs": [
    {
     "data": {
      "text/plain": [
       "(18708, 18708)"
      ]
     },
     "execution_count": 8,
     "metadata": {},
     "output_type": "execute_result"
    }
   ],
   "source": [
    "selected = glitches[(glitches['label'] == 'Tomte') & (glitches['ifo'] == 'L1')]\n",
    "len(selected), len(selected)"
   ]
  },
  {
   "cell_type": "code",
   "execution_count": 9,
   "id": "852e3ef9-f0a9-4c5c-803d-f1002db5da96",
   "metadata": {},
   "outputs": [
    {
     "data": {
      "text/plain": [
       "np.float64(0.66)"
      ]
     },
     "execution_count": 9,
     "metadata": {},
     "output_type": "execute_result"
    }
   ],
   "source": [
    "np.round(np.mean(selected['duration'].values), 2)"
   ]
  },
  {
   "cell_type": "markdown",
   "id": "412c0098-53f0-4cff-b2ee-522536f8b12b",
   "metadata": {},
   "source": [
    "You can see that 'Tomte' of 'L1' is a subset of the initial data set. How long are they?"
   ]
  },
  {
   "cell_type": "code",
   "execution_count": 10,
   "id": "619d6f8a",
   "metadata": {},
   "outputs": [
    {
     "data": {
      "text/plain": [
       "array([ 0.039,  0.047,  0.055, ..., 13.169, 19.25 , 24.813])"
      ]
     },
     "execution_count": 10,
     "metadata": {},
     "output_type": "execute_result"
    }
   ],
   "source": [
    "np.unique(selected['duration'])"
   ]
  },
  {
   "cell_type": "code",
   "execution_count": 11,
   "id": "e5965cfd",
   "metadata": {},
   "outputs": [
    {
     "data": {
      "text/html": [
       "<div>\n",
       "<style scoped>\n",
       "    .dataframe tbody tr th:only-of-type {\n",
       "        vertical-align: middle;\n",
       "    }\n",
       "\n",
       "    .dataframe tbody tr th {\n",
       "        vertical-align: top;\n",
       "    }\n",
       "\n",
       "    .dataframe thead th {\n",
       "        text-align: right;\n",
       "    }\n",
       "</style>\n",
       "<table border=\"1\" class=\"dataframe\">\n",
       "  <thead>\n",
       "    <tr style=\"text-align: right;\">\n",
       "      <th></th>\n",
       "      <th>GPStime</th>\n",
       "      <th>snr</th>\n",
       "      <th>duration</th>\n",
       "      <th>confidence</th>\n",
       "      <th>ifo</th>\n",
       "      <th>label</th>\n",
       "    </tr>\n",
       "  </thead>\n",
       "  <tbody>\n",
       "    <tr>\n",
       "      <th>1041</th>\n",
       "      <td>1.248344e+09</td>\n",
       "      <td>22.439</td>\n",
       "      <td>0.875</td>\n",
       "      <td>1.0</td>\n",
       "      <td>L1</td>\n",
       "      <td>Tomte</td>\n",
       "    </tr>\n",
       "  </tbody>\n",
       "</table>\n",
       "</div>"
      ],
      "text/plain": [
       "           GPStime     snr  duration  confidence ifo  label\n",
       "1041  1.248344e+09  22.439     0.875         1.0  L1  Tomte"
      ]
     },
     "execution_count": 11,
     "metadata": {},
     "output_type": "execute_result"
    }
   ],
   "source": [
    "selected.loc[selected[\"GPStime\"] == 1248343512.793]"
   ]
  },
  {
   "cell_type": "code",
   "execution_count": 12,
   "id": "7d1de07c-0e08-4a89-8530-4d5f316eb843",
   "metadata": {},
   "outputs": [
    {
     "data": {
      "text/plain": [
       "<matplotlib.legend.Legend at 0x7f095d5a1f10>"
      ]
     },
     "execution_count": 12,
     "metadata": {},
     "output_type": "execute_result"
    },
    {
     "data": {
      "image/png": "[encoded data removed]",
      "text/plain": [
       "<Figure size 640x480 with 1 Axes>"
      ]
     },
     "metadata": {},
     "output_type": "display_data"
    }
   ],
   "source": [
    "plt.hist(selected['duration'].values, bins=100, density=True,\n",
    "         label=f'$\\mu=$'+str(np.round(np.mean(selected['duration'].values), 3))+' s')\n",
    "plt.yscale('log')\n",
    "plt.xlabel('Duration (s)')\n",
    "plt.xlabel('Probability density')\n",
    "plt.legend()"
   ]
  },
  {
   "cell_type": "markdown",
   "id": "4194aa71",
   "metadata": {},
   "source": [
    "The function below fetches glitch samples from the TimeSeries API using a Pandas dataframe of the IFO runs dataset\n",
    "\n",
    "Inputs:\n",
    "  - `data`: Pandas dataframe of glitch data\n",
    "  - `srate`: The sampling rate. Default= 4096\n",
    "  - `tw`: Time window to be taken into consideration around the glitch. Thefinal sample returned will have 2.5 seconds removed from either side.\n",
    "          Default = 3 seconds \n",
    "  - `ifo`: The interferometer being studied. Default=L1 (LIGO LivingstonObservatory)\n",
    "  - `begin`: Starting index. Default=0\n",
    "  - `end`: End index. Default=50\n",
    "\n",
    "Output:\n",
    "  - **data_df:** Dataframe containing the following\n",
    "      - 'GPStime': Global Positioning System Time of the glitch\n",
    "      - 'duration': Total duration of the glitch\n",
    "      - 'noise': pycbc data of the unwhitened glitch\n",
    "      - 'snr': signal to noise ratio\n",
    "      - 'y': Amplitude values of the whitened glitch timeseries\n",
    "      - 't': Time values of the whitened glitch timeseries,\n",
    "      - 'q_transform': Q-transform of the whole glitch sample (1 second removed at either end to account for border effects)\n",
    "      - 'shapiro_pvalue': Shapiro p-value of the sample amplitudes\n",
    "      - 'ks_pvalue': Kolmogorov-Smirnov p-value of the sample amplitudes\n",
    "      - 'ad_statistic': Anderson-Darling statistic\n",
    "      - 'ad_critical_values': Critical values for the Anderson Darling statistic\n",
    "      - 'ad_significance_level': Significance level for the Anderson Darling statistic\n",
    "      - 'kurtosis': Kurtosis of the glitch amplitude values\n",
    "      - 'skew': Skew of the glitch amplitude values"
   ]
  },
  {
   "cell_type": "code",
   "execution_count": 13,
   "id": "7ac2156f",
   "metadata": {},
   "outputs": [],
   "source": [
    "def fetch_glitch_data(data: pd.DataFrame, srate=4096, ifo='L1', begin=0, end=50):\n",
    "\n",
    "    tw = 5 # A default time window of 10s on either side of the glitch\n",
    "\n",
    "    data_readings = []\n",
    "\n",
    "    # Select information based on begin and end indexes\n",
    "    g_stars = data['GPStime'].iloc[begin:end]\n",
    "\n",
    "    for i, g_star in enumerate(g_stars):\n",
    "\n",
    "        # Fetch noise data from the LIGO GWOSC\n",
    "        unwhitened_noise = TimeSeries.fetch_open_data(ifo, g_star - tw,  g_star + tw, sample_rate=srate)\n",
    "        unwhitened_noise = unwhitened_noise.to_pycbc()\n",
    "\n",
    "        # whiten the noise data\n",
    "        whitened_noise, psd = unwhitened_noise.whiten(len(unwhitened_noise) / (2 * srate),\n",
    "                                        len(unwhitened_noise)/( 4 * srate),\n",
    "                                        remove_corrupted = False,\n",
    "                                        return_psd = True)\n",
    "        \n",
    "        # Crop times at each side to avoid border effects\n",
    "        whitened_noise = whitened_noise[int(srate * 3):-int(srate * 3)]\n",
    "        unwhitened_noise = unwhitened_noise[int(srate * 3):-int(srate * 3)]\n",
    "\n",
    "        # Creating q-transforms of the data for visualization\n",
    "        whitened_noise = TimeSeries(whitened_noise, sample_rate = srate)\n",
    "        q_scan = whitened_noise.q_transform(qrange=[4,64], frange=[10, 2048],\n",
    "                                tres=0.002, fres=0.5, whiten=False)\n",
    "        \n",
    "        # Stripping the sample down to 1 second of central data\n",
    "        # (this might need to be changed for different glitches)\n",
    "        unwhitened_noise = unwhitened_noise[int(srate * 1.5):-int(srate * 1.5)]\n",
    "        whitened_noise = whitened_noise[int(srate * 1.5):-int(srate * 1.5)]\n",
    "\n",
    "        glitch_statistics = normality_tests.generate_sample_statistics(whitened_noise)\n",
    "        \n",
    "        t = whitened_noise.times\n",
    "        y = whitened_noise.value\n",
    "\n",
    "        data_readings.append(\n",
    "            data.iloc[i].to_list() +\n",
    "            [unwhitened_noise,\n",
    "             y,\n",
    "             t,\n",
    "             q_scan\n",
    "             ] + glitch_statistics)\n",
    "\n",
    "    data_df = pd.DataFrame(data_readings, columns=list(data.columns)+[\"glitch_timeseries\",\"y\",\"t\",\"q_scan\",\"shapiro_statistic\", \"shapiro_pvalue\",\"shapiro_prediction\",\"ks_statistic\",\"ks_pvalue\",\"ks_prediction\",\"ad_statistic\",\"ad_critical_values\",\"ad_significance_level\",\"kurtosis\",\"skew\"])\n",
    "    \n",
    "    return data_df\n"
   ]
  },
  {
   "cell_type": "markdown",
   "id": "6bc7e48f-1d92-483d-8830-79ba11184995",
   "metadata": {},
   "source": [
    "On average they are 0.664 s long, so we can visualize then in 2s. Let's pick a random example and visualize it.\n",
    "\n",
    "The `normality_tests` module contains a function `fetch_glitch_data()` that fetches info from the LIGO OSC for L1 at a given gps time for 3 seconds at a sample rate of 4096. This sample is then converted to the pycbc format and whitened.\n",
    "\n",
    "```python\n",
    "noise = TimeSeries.fetch_open_data(ifo, g_star - tw ,  g_star + tw, sample_rate=srate)\n",
    "```"
   ]
  },
  {
   "cell_type": "code",
   "execution_count": 14,
   "id": "527d4805",
   "metadata": {},
   "outputs": [],
   "source": [
    "data_df_tomte = fetch_glitch_data(selected, begin=0, end=1)"
   ]
  },
  {
   "cell_type": "code",
   "execution_count": 15,
   "id": "2b217ced",
   "metadata": {},
   "outputs": [
    {
     "data": {
      "text/html": [
       "<div>\n",
       "<style scoped>\n",
       "    .dataframe tbody tr th:only-of-type {\n",
       "        vertical-align: middle;\n",
       "    }\n",
       "\n",
       "    .dataframe tbody tr th {\n",
       "        vertical-align: top;\n",
       "    }\n",
       "\n",
       "    .dataframe thead th {\n",
       "        text-align: right;\n",
       "    }\n",
       "</style>\n",
       "<table border=\"1\" class=\"dataframe\">\n",
       "  <thead>\n",
       "    <tr style=\"text-align: right;\">\n",
       "      <th></th>\n",
       "      <th>GPStime</th>\n",
       "      <th>snr</th>\n",
       "      <th>duration</th>\n",
       "      <th>confidence</th>\n",
       "      <th>ifo</th>\n",
       "      <th>label</th>\n",
       "      <th>glitch_timeseries</th>\n",
       "      <th>y</th>\n",
       "      <th>t</th>\n",
       "      <th>q_scan</th>\n",
       "      <th>...</th>\n",
       "      <th>shapiro_pvalue</th>\n",
       "      <th>shapiro_prediction</th>\n",
       "      <th>ks_statistic</th>\n",
       "      <th>ks_pvalue</th>\n",
       "      <th>ks_prediction</th>\n",
       "      <th>ad_statistic</th>\n",
       "      <th>ad_critical_values</th>\n",
       "      <th>ad_significance_level</th>\n",
       "      <th>kurtosis</th>\n",
       "      <th>skew</th>\n",
       "    </tr>\n",
       "  </thead>\n",
       "  <tbody>\n",
       "    <tr>\n",
       "      <th>0</th>\n",
       "      <td>1.243679e+09</td>\n",
       "      <td>35.21</td>\n",
       "      <td>1.25</td>\n",
       "      <td>1.0</td>\n",
       "      <td>L1</td>\n",
       "      <td>Tomte</td>\n",
       "      <td>[-1.0854155103346084e-19, -1.3654645578018337e...</td>\n",
       "      <td>[8.733267214536818, 35.93607133244307, 0.02690...</td>\n",
       "      <td>[1.5 s, 1.500244140625 s, 1.50048828125 s, 1.5...</td>\n",
       "      <td>[[FrequencySeries(2.1660795\\n                u...</td>\n",
       "      <td>...</td>\n",
       "      <td>9.012929e-20</td>\n",
       "      <td>1</td>\n",
       "      <td>0.378418</td>\n",
       "      <td>1.389386e-261</td>\n",
       "      <td>1</td>\n",
       "      <td>3.159505</td>\n",
       "      <td>[0.575, 0.655, 0.786, 0.917, 1.091]</td>\n",
       "      <td>[15.0, 10.0, 5.0, 2.5, 1.0]</td>\n",
       "      <td>4.716922</td>\n",
       "      <td>-0.281326</td>\n",
       "    </tr>\n",
       "  </tbody>\n",
       "</table>\n",
       "<p>1 rows × 21 columns</p>\n",
       "</div>"
      ],
      "text/plain": [
       "        GPStime    snr  duration  confidence ifo  label  \\\n",
       "0  1.243679e+09  35.21      1.25         1.0  L1  Tomte   \n",
       "\n",
       "                                   glitch_timeseries  \\\n",
       "0  [-1.0854155103346084e-19, -1.3654645578018337e...   \n",
       "\n",
       "                                                   y  \\\n",
       "0  [8.733267214536818, 35.93607133244307, 0.02690...   \n",
       "\n",
       "                                                   t  \\\n",
       "0  [1.5 s, 1.500244140625 s, 1.50048828125 s, 1.5...   \n",
       "\n",
       "                                              q_scan  ...  shapiro_pvalue  \\\n",
       "0  [[FrequencySeries(2.1660795\\n                u...  ...    9.012929e-20   \n",
       "\n",
       "   shapiro_prediction  ks_statistic      ks_pvalue  ks_prediction  \\\n",
       "0                   1      0.378418  1.389386e-261              1   \n",
       "\n",
       "   ad_statistic                   ad_critical_values  \\\n",
       "0      3.159505  [0.575, 0.655, 0.786, 0.917, 1.091]   \n",
       "\n",
       "         ad_significance_level  kurtosis      skew  \n",
       "0  [15.0, 10.0, 5.0, 2.5, 1.0]  4.716922 -0.281326  \n",
       "\n",
       "[1 rows x 21 columns]"
      ]
     },
     "execution_count": 15,
     "metadata": {},
     "output_type": "execute_result"
    }
   ],
   "source": [
    "# Checking new ks-stats\n",
    "data_df_tomte.head()"
   ]
  },
  {
   "cell_type": "code",
   "execution_count": null,
   "id": "bda5c483",
   "metadata": {},
   "outputs": [],
   "source": [
    "normality_tests.get_section_statistics()"
   ]
  },
  {
   "cell_type": "code",
   "execution_count": null,
   "id": "df8a2ddc",
   "metadata": {},
   "outputs": [],
   "source": [
    "normality_tests.shapiro_pvalue_histogram(data_df_tomte)"
   ]
  },
  {
   "cell_type": "markdown",
   "id": "844fd656-8b6a-46af-96f0-17f4451ae33c",
   "metadata": {},
   "source": [
    "OK, now we can check its Gaussianity with Saphiro test. We test that the input time series (y) is Gaussian, against the alternative hypothesis that it is non-Gaussian. If the test yields a p-value below $\\alpha=0.05$ it means that the input data is non-Gaussian"
   ]
  },
  {
   "cell_type": "markdown",
   "id": "c97ac2dd",
   "metadata": {},
   "source": [
    "Using the code above, we load up the dataset"
   ]
  },
  {
   "cell_type": "markdown",
   "id": "e5edaa53",
   "metadata": {},
   "source": [
    "Changing the sampling rate increases the amount of times we sample from the data per second. I want to know how the p-values would vary with this change. The gwpy [documentation](https://gwpy.github.io/docs/latest/api/gwpy.timeseries.TimeSeries/#gwpy.timeseries.TimeSeries.fetch_open_data) states that there can be event data with a 16384 Hz sampling rate which is what I will be using as a reference."
   ]
  },
  {
   "cell_type": "code",
   "execution_count": null,
   "id": "f10674ae",
   "metadata": {},
   "outputs": [],
   "source": [
    "# def p_values_with_sample_rate(begin=0,end=100):\n",
    "#     data_df_4096 = get_noise_data(selected, tw=3, begin=begin, end=end)\n",
    "#     data_df_16384 = get_noise_data(selected, tw=3, begin=begin, end=end)\n",
    "\n",
    "#     data_df_4096['shapiro_pvalue'] = data_df_4096['y'].apply(lambda y: stats.shapiro(y).pvalue)\n",
    "#     data_df_16384['shapiro_pvalue'] = data_df_16384['y'].apply(lambda y: stats.shapiro(y).pvalue)\n",
    "    \n",
    "#     display_shapiro_stats(data_df_4096, 3)\n",
    "#     display_shapiro_stats(data_df_16384, 3)\n",
    "\n",
    "#     return data_df_4096, data_df_16384\n",
    "\n",
    "\n",
    "# data_df_4096, data_df_16384 = p_values_with_sample_rate()\n",
    "\n"
   ]
  },
  {
   "cell_type": "markdown",
   "id": "ab931f86",
   "metadata": {},
   "source": [
    "We also check the equality of the numpy arrays to 100% confirm that the distributions are the same. Here we see that the p-values differ by a small margin (in the scale of $10^{-15}$) at to points. At first I thought this was particular to certain values, but on further experimentation, this could most probably be chalked up to floating point precision errors."
   ]
  },
  {
   "cell_type": "code",
   "execution_count": null,
   "id": "d819e2ce",
   "metadata": {},
   "outputs": [],
   "source": [
    "# plt.plot(difference)\n",
    "# plt.xlabel(\"Index\")\n",
    "# plt.ylabel(\"Difference in p-values\")\n",
    "# plt.title(\"Difference in Shapiro p-values (4096 Hz vs. 16384 Hz)\")\n",
    "# plt.show()"
   ]
  },
  {
   "cell_type": "markdown",
   "id": "efc05287",
   "metadata": {},
   "source": [
    "Next would be checking the timeframe over which we conduct the test. This is more likely to change the shapiro values as we are increasing the number of points over which we are doing these calculations."
   ]
  },
  {
   "cell_type": "code",
   "execution_count": null,
   "id": "3957a60b",
   "metadata": {},
   "outputs": [],
   "source": [
    "# def p_values_with_time_width():\n",
    "#     data_df_3 = get_noise_data(selected, tw=3, begin=100, end=150)\n",
    "#     data_df_4 = get_noise_data(selected, tw=4, begin=100, end=150)\n",
    "#     data_df_5 = get_noise_data(selected, tw=5, begin=100, end=150)\n",
    "\n",
    "#     data_df_3['shapiro_pvalue'] = data_df_3['y'].apply(lambda y: stats.shapiro(y).pvalue)\n",
    "#     data_df_4['shapiro_pvalue'] = data_df_4['y'].apply(lambda y: stats.shapiro(y).pvalue)\n",
    "#     data_df_5['shapiro_pvalue'] = data_df_5['y'].apply(lambda y: stats.shapiro(y).pvalue)\n",
    "    \n",
    "#     display_shapiro_stats(data_df_3, 3)\n",
    "#     display_shapiro_stats(data_df_4, 4)\n",
    "#     display_shapiro_stats(data_df_5, 5)\n",
    "\n",
    "#     return data_df_3, data_df_4, data_df_5\n",
    "\n",
    "\n",
    "# data_df_3, data_df_4, data_df_5 = p_values_with_time_width()"
   ]
  },
  {
   "cell_type": "markdown",
   "id": "7858e9fd",
   "metadata": {},
   "source": [
    "My hunch was right. The p-values have changed. This could probably be because we are considering more data points as we increase the time window.\n",
    "\n",
    "Ignoring The outlier, we now focus on values below 0.05"
   ]
  },
  {
   "cell_type": "code",
   "execution_count": null,
   "id": "b4c98f45",
   "metadata": {},
   "outputs": [],
   "source": [
    "# def view_filtered_histograms_tw(threshold = 0.065):\n",
    "#     filtered_3 = data_df_3[data_df_3['shapiro_pvalue'] <= 0.06]\n",
    "#     filtered_4 = data_df_4[data_df_4['shapiro_pvalue'] <= 0.06]\n",
    "#     filtered_5 = data_df_5[data_df_5['shapiro_pvalue'] <= 0.06]\n",
    "\n",
    "#     fig, ax = plt.subplots(1, 3, figsize=(21, 6))\n",
    "\n",
    "#     ax[0].hist(filtered_3['shapiro_pvalue'])\n",
    "#     ax[0].set_xlabel(\"Shapiro p-value\")\n",
    "#     ax[0].set_ylabel(\"Frequency\")\n",
    "#     ax[0].set_title(\"Shapiro p-values ≤ 0.01 (Time Window = 3s)\")\n",
    "\n",
    "\n",
    "#     ax[1].hist(filtered_4['shapiro_pvalue'])\n",
    "#     ax[1].set_xlabel(\"Shapiro p-value\")\n",
    "#     ax[1].set_ylabel(\"Frequency\")\n",
    "#     ax[1].set_title(\"Shapiro p-values ≤ 0.01 (Time Window = 4s)\")\n",
    "\n",
    "#     ax[2].hist(filtered_5['shapiro_pvalue'])\n",
    "#     ax[2].set_xlabel(\"Shapiro p-value\")\n",
    "#     ax[2].set_ylabel(\"Frequency\")\n",
    "#     ax[2].set_title(\"Shapiro p-values ≤ 0.01 (Time Window = 5s)\")\n",
    "#     plt.show()\n",
    "\n",
    "# view_filtered_histograms_tw()"
   ]
  },
  {
   "cell_type": "code",
   "execution_count": null,
   "id": "0db294d9",
   "metadata": {},
   "outputs": [],
   "source": [
    "# fig = plt.figure(figsize=(10, 6))\n",
    "# fig = plt.figure(dpi=200)\n",
    "\n",
    "# plt.plot(data_df_3['shapiro_pvalue'], color='blue', alpha=0.3)\n",
    "# plt.plot(data_df_4['shapiro_pvalue'], color='orange', alpha=0.3)\n",
    "# plt.plot(data_df_5['shapiro_pvalue'], color='green', alpha=0.3)\n",
    "\n",
    "# plt.xlabel('Glitch Instance')\n",
    "# plt.ylabel('p-value')\n",
    "# plt.title('Comparison of Shapiro p-values with differing time windows')\n",
    "# plt.legend(['filtered_3', 'filtered_4', 'filtered_5'])\n",
    "# plt.show()"
   ]
  },
  {
   "cell_type": "markdown",
   "id": "15a9810d",
   "metadata": {},
   "source": [
    "What I find interesting in these graphs is that the p-values for a time window of 3s fluctuate between 0 to 0.04, for 4s, it fluctuates from 0 to 0.005, and for 5s it is between 0 to 0.05\n",
    "\n"
   ]
  },
  {
   "cell_type": "markdown",
   "id": "7691aa15",
   "metadata": {},
   "source": [
    "I now want to investigate the glitch that was classified but was failing this test. I'll use `data_df_tomte` for this"
   ]
  },
  {
   "cell_type": "code",
   "execution_count": null,
   "id": "dffdd434",
   "metadata": {},
   "outputs": [],
   "source": [
    "data_df_tomte['ewm_y'] = data_df_tomte['y'].apply(lambda row: pd.Series(row).ewm(0.9).mean().tolist())\n",
    "# data_df_tomte['ewm_q_transform'] = data_df_tomte['ewm_y'].apply(lambda row: TimeSeries(row, sample_rate=4096).q_transform(qrange=[4,64], frange=[10, 2048], tres=0.002, fres=0.5, whiten=False))\n",
    "data_df_tomte['ewm_q_transform'] = data_df_tomte['ewm_y'].apply(lambda row: TimeSeries(row, sample_rate=4096).q_transform(qrange=[4,64], frange=[10, 2048], tres=0.002, fres=0.5, whiten=False))"
   ]
  },
  {
   "cell_type": "code",
   "execution_count": null,
   "id": "0dd6972b",
   "metadata": {},
   "outputs": [],
   "source": [
    "suspicious_glitch = data_df_tomte[data_df_tomte['shapiro_pvalue'] >= 0.05]\n",
    "suspicious_glitch"
   ]
  },
  {
   "cell_type": "code",
   "execution_count": null,
   "id": "7c1c062f",
   "metadata": {},
   "outputs": [],
   "source": [
    "# fig, ax = plt.subplots(1,2, figsize=(12, 6))\n",
    "# ax[0].plot(suspicious_glitch['t'].iloc[0], suspicious_glitch['y'].iloc[0], label='Suspicious Glitch')\n",
    "# ax[0].set_xlabel(\"Time (s)\")\n",
    "# ax[0].set_ylabel(\"Amplitude\")\n",
    "# ax[0].legend()\n",
    "\n",
    "# ax[1].imshow(suspicious_glitch['q_transform'].iloc[0])\n",
    "# ax[1].set_yscale('log', base=2)\n",
    "# ax[1].set_xscale('linear')\n",
    "# ax[1].set_ylabel('Frequency (Hz)')\n",
    "# ax[1].set_xlabel('Time (s)')\n",
    "# ax[1].images[0].set_clim(0, 25.5)\n",
    "\n",
    "# fig.colorbar(ax[1].images[0], ax=ax[1], label='Normalized energy', orientation='vertical', fraction=0.046, pad=0.04)\n",
    "\n",
    "# plt.show()"
   ]
  },
  {
   "cell_type": "code",
   "execution_count": null,
   "id": "764573c7",
   "metadata": {},
   "outputs": [],
   "source": [
    "glitch_idx = 9\n",
    "\n",
    "fig, ax = plt.subplots(1,3, figsize=(24, 6))\n",
    "ax[0].plot(data_df_tomte['t'].iloc[glitch_idx], data_df_tomte['y'].iloc[glitch_idx], label='Suspicious Glitch')\n",
    "ax[0].set_xlabel(\"Time (s)\")\n",
    "ax[0].set_ylabel(\"Amplitude\")\n",
    "ax[0].legend()\n",
    "\n",
    "ax[1].plot(data_df_tomte['t'].iloc[glitch_idx],data_df_tomte[\"glitch_timeseries\"].iloc[glitch_idx], label='Suspicious Glitch')\n",
    "# ax[2].set_xlabel(\"Time (s)\")\n",
    "ax[1].set_ylabel(\"Amplitude\")\n",
    "ax[1].legend()\n",
    "\n",
    "ax[2].imshow(data_df_tomte['q_scan'].iloc[glitch_idx])\n",
    "ax[2].set_yscale('log', base=2)\n",
    "ax[2].set_xscale('linear')\n",
    "ax[2].set_ylabel('Frequency (Hz)')\n",
    "ax[2].set_xlabel('Time (s)')\n",
    "ax[2].images[0].set_clim(0, 25.5)\n",
    "fig.colorbar(ax[2].images[0], ax=ax[2], label='Normalized energy', orientation='vertical', fraction=0.046, pad=0.04)\n",
    "\n",
    "plt.show()"
   ]
  },
  {
   "cell_type": "markdown",
   "id": "3ebc5d10",
   "metadata": {},
   "source": [
    "The glitch with a p-value above 0.05 does look gaussian in the time-amplitude domain, but its q-transform makes it look similar to the other glitches.\n",
    "\n",
    "Now, I want to compare this glitch to the other ones to see if its distribution is similar to theirs and by how much. The Kolmogorov-Smirnov test is suitable for this as it provides a statistic and p-value to work with."
   ]
  },
  {
   "cell_type": "code",
   "execution_count": null,
   "id": "08214f27",
   "metadata": {},
   "outputs": [],
   "source": [
    "# sus_y_values = suspicious_glitch.iloc[0]['y']\n",
    "\n",
    "# ks_stats = list(data_df_tomte['y'].apply(lambda row: tuple(stats.ks_2samp(row,sus_y_values))))"
   ]
  },
  {
   "cell_type": "code",
   "execution_count": null,
   "id": "77968d8f",
   "metadata": {},
   "outputs": [],
   "source": [
    "# ks_stats = pd.DataFrame(ks_stats, columns=['suspicious_KS_statistic', 'suspicious_KS_p_value'])\n",
    "# data_df_tomte = data_df_tomte.join(ks_stats[['suspicious_KS_statistic', 'suspicious_KS_p_value']])"
   ]
  },
  {
   "cell_type": "markdown",
   "id": "220181f6",
   "metadata": {},
   "source": [
    "Now that I have the KS statistic and p-values, I can now see how the suspicious glitch here fares with the others"
   ]
  },
  {
   "cell_type": "code",
   "execution_count": null,
   "id": "80f5a5a4",
   "metadata": {},
   "outputs": [],
   "source": [
    "# fig, ax = plt.subplots(1,2, figsize=(12, 6))\n",
    "\n",
    "# # plt.title(\"Kolmogorov Smirnov Statistic and P-values of data compared to outlier glitch\")\n",
    "# ax[0].plot(data_df_tomte['suspicious_KS_statistic'])\n",
    "# ax[0].set_ylabel(\"KS statistic\")\n",
    "# ax[0].set_xlabel(\"Glitch Instance\")\n",
    "\n",
    "# ax[1].plot(data_df_tomte['suspicious_KS_p_value'])\n",
    "# ax[1].set_ylabel('KS p-value')\n",
    "# ax[1].set_xlabel('Glitch Instance')\n",
    "\n",
    "# plt.show()"
   ]
  },
  {
   "cell_type": "markdown",
   "id": "4c0643ae",
   "metadata": {},
   "source": [
    "Due to how much this statistic varies with each of the glitches in our sample set, it will probably not be of much use to us in determining whether the glitch that we are studying is similar to the other ones are not. Additionally the KS test doesn't take into consideration the temporal nature of our data, which is problematic.\n",
    "\n",
    "An idea I wanted to try for this was [Dynamic Time Warping](https://en.wikipedia.org/wiki/Dynamic_time_warping). This algorithm can compare the simlarities between two temporal sequences, taking into account their speed (warping). However this assumes there to be a phase shift between the timeseries and does not account for changes in amplitudes. \n",
    "\n",
    "In our case, we would go for something akin to lock-step distance. The main issue however is the whitening that has been done to our signal.\n",
    "\n",
    "Since our signal is being introduced to white noise, it is effectively a vaguely glitch-like white noise signal that we are dealing with. I could try applying a weighted average that would help capture the general trend of the glitch as it moves along, along with either one of the two methods.\n",
    "\n",
    "We first do the lock-step calculations with the glitches directly"
   ]
  },
  {
   "cell_type": "code",
   "execution_count": null,
   "id": "8ca1c17f",
   "metadata": {},
   "outputs": [],
   "source": [
    "# def lock_step(sus, row):\n",
    "#     return np.sqrt(((sus-row)**2).sum())\n",
    "\n",
    "# data_df_tomte['lock_step_distance'] = data_df_tomte['y'].apply(lambda row: lock_step(np.array(row) , np.array(sus_y_values)))"
   ]
  },
  {
   "cell_type": "code",
   "execution_count": null,
   "id": "d0938abe",
   "metadata": {},
   "outputs": [],
   "source": [
    "# fig = plt.figure(dpi=100)\n",
    "# plt.plot(data_df_tomte['lock_step_distance'])\n",
    "\n",
    "# plt.xlabel('Glitch Instance')\n",
    "# plt.ylabel('Lock-step distance')\n",
    "# plt.title('Lock-step distances of whitened glitches compared to the suspicious glitch')\n",
    "# plt.show()"
   ]
  },
  {
   "cell_type": "markdown",
   "id": "f7a5bf3b",
   "metadata": {},
   "source": [
    "We notice that a lot of the lock-step distance values hover around the 5500 t0 6100 range. However there are some points where the variation is extremely high. I want to compare this with th KS statistic to see the parallels."
   ]
  },
  {
   "cell_type": "code",
   "execution_count": null,
   "id": "bdcd9326",
   "metadata": {},
   "outputs": [],
   "source": [
    "# fig, ax = plt.subplots(1,2, figsize=(12, 6))\n",
    "\n",
    "# ax[0].plot(data_df_tomte['suspicious_KS_statistic'])\n",
    "# ax[0].set_ylabel(\"KS statistic\")\n",
    "# ax[0].set_xlabel(\"Glitch Instance\")\n",
    "\n",
    "# ax[1].plot(data_df_tomte['lock_step_distance'])\n",
    "# ax[1].set_ylabel('Lock-step distance')\n",
    "# ax[1].set_xlabel('Glitch Instance')\n",
    "\n",
    "# plt.show()"
   ]
  },
  {
   "cell_type": "markdown",
   "id": "4c88d147",
   "metadata": {},
   "source": [
    "We notice that both these plots have spikes at similar points, having a zero value at point 28 (the suspicious glitch).\n",
    "\n",
    "I'll now take the weighted average and do the same. First i want to see what our suspicious glitch looks when taken as a weighted average."
   ]
  },
  {
   "cell_type": "code",
   "execution_count": null,
   "id": "d055af5f",
   "metadata": {},
   "outputs": [],
   "source": [
    "# fig, ax = plt.subplots(2,2, figsize=(13, 12))\n",
    "# ax[0][0].plot(suspicious_glitch['t'].iloc[0], suspicious_glitch['y'].iloc[0], label='Suspicious Glitch')\n",
    "# ax[0][0].set_xlabel(\"Time (s)\")\n",
    "# ax[0][0].set_ylabel(\"Amplitude\")\n",
    "# ax[0][0].legend()\n",
    "\n",
    "# ax[0][1].plot(suspicious_glitch['t'].iloc[0], suspicious_glitch['ewm_y'].iloc[0], label='Suspicious Glitch (EWM)')\n",
    "# ax[0][1].set_xlabel(\"Time (s)\")\n",
    "# ax[0][1].set_ylabel(\"Amplitude\")\n",
    "# ax[0][1].legend()\n",
    "# # ax[1].images[0].set_clim(0, 25.5)\n",
    "\n",
    "# ax[1][0].imshow(suspicious_glitch['q_transform'].iloc[0])\n",
    "# ax[1][0].set_yscale('log', base=2)\n",
    "# ax[1][0].set_xscale('linear')\n",
    "# ax[1][0].set_ylabel('Frequency (Hz)')\n",
    "# ax[1][0].set_xlabel('Time (s)')\n",
    "# ax[1][0].images[0].set_clim(0, 25.5)\n",
    "# fig.colorbar(ax[1][0].images[0], ax=ax[1][0], label='Normalized energy', orientation='vertical', fraction=0.046, pad=0.04)\n",
    "\n",
    "# ax[1][1].imshow(suspicious_glitch['ewm_q_transform'].iloc[0])\n",
    "# ax[1][1].set_yscale('log', base=2)\n",
    "# ax[1][1].set_xscale('linear')\n",
    "# ax[1][1].set_ylabel('Frequency (Hz)')\n",
    "# ax[1][1].set_xlabel('Time (s)')\n",
    "# ax[1][1].images[0].set_clim(0, 25.5)\n",
    "\n",
    "# plt.subplots_adjust(wspace=0.4, hspace=0.4)\n",
    "\n",
    "# fig.colorbar(ax[1][1].images[0], ax=ax[1][1], label='Normalized energy', orientation='vertical', fraction=0.046, pad=0.04)\n",
    "\n",
    "# plt.show()"
   ]
  },
  {
   "cell_type": "markdown",
   "id": "2ef2954b",
   "metadata": {},
   "source": [
    "# Testing EWA on white noise"
   ]
  },
  {
   "cell_type": "code",
   "execution_count": null,
   "id": "4a52f39c",
   "metadata": {},
   "outputs": [],
   "source": [
    "# creating noise\n",
    "example_noise = TimeSeries(np.random.normal(scale=.1, size=4096), sample_rate=4096)\n",
    "print(stats.shapiro(example_noise.value).pvalue)\n",
    "fig = plt.figure(figsize=(18,6))\n",
    "plt.plot(example_noise)\n",
    "plt.xlabel(\"Time (s)\")\n",
    "plt.ylabel(\"Amplitude\")\n",
    "plt.show()"
   ]
  },
  {
   "cell_type": "code",
   "execution_count": null,
   "id": "333fe814",
   "metadata": {},
   "outputs": [],
   "source": [
    "ewm_example_1 = pd.Series(example_noise.value).ewm(0).mean()\n",
    "ewm_example_2 = pd.Series(example_noise.value).ewm(0.5).mean()\n",
    "ewm_example_3 = pd.Series(example_noise.value).ewm(0.8).mean()\n",
    "ewm_example_4 = pd.Series(example_noise.value).ewm(0.9).mean()\n",
    "ewm_example_5 = pd.Series(example_noise.value).ewm(0.98).mean()\n",
    "ewm_example_6 = pd.Series(example_noise.value).ewm(0.9999).mean()"
   ]
  },
  {
   "cell_type": "code",
   "execution_count": null,
   "id": "570ac3b0",
   "metadata": {},
   "outputs": [],
   "source": [
    "fig, ax = plt.subplots(6, 1, figsize=(20,40), sharey=True, dpi=100)\n",
    "\n",
    "ax[0].plot(example_noise.times, ewm_example_1)\n",
    "ax[0].set_xlabel(\"Time (s)\")\n",
    "ax[0].set_ylabel(\"Amplitude\")\n",
    "\n",
    "ax[1].plot(example_noise.times, ewm_example_2)\n",
    "ax[1].set_xlabel(\"Time (s)\")\n",
    "ax[1].set_ylabel(\"Amplitude\")\n",
    "\n",
    "ax[2].plot(example_noise.times, ewm_example_3)\n",
    "ax[2].set_xlabel(\"Time (s)\")\n",
    "ax[2].set_ylabel(\"Amplitude\")\n",
    "\n",
    "ax[3].plot(example_noise.times, ewm_example_4)\n",
    "ax[3].set_xlabel(\"Time (s)\")\n",
    "ax[3].set_ylabel(\"Amplitude\")\n",
    "\n",
    "ax[4].plot(example_noise.times, ewm_example_5)\n",
    "ax[4].set_xlabel(\"Time (s)\")\n",
    "ax[4].set_ylabel(\"Amplitude\")\n",
    "\n",
    "ax[5].plot(example_noise.times, ewm_example_6)\n",
    "ax[5].set_xlabel(\"Time (s)\")\n",
    "ax[5].set_ylabel(\"Amplitude\")\n",
    "\n",
    "plt.show()"
   ]
  },
  {
   "cell_type": "markdown",
   "id": "b6ba4ab0",
   "metadata": {},
   "source": [
    "What's happening here is that the effective values following the first sample are dampened with the following formula\n",
    "\n",
    "$$\\text{ewm}_{t} = \\alpha \\text{ val}_{t} + (1 - \\alpha) \\text{ewm}_{t-1}$$\n",
    "\n",
    "where $\\text{ewm}_{t}$ is the exponentially weighted mean at $t$, and $\\alpha$ is a user defined value between $(0,1)$\n",
    "\n",
    "So at every point, we take into account previous points in our timeseries. Hence, the white noise is not necessarily going to remain as white noise.\n",
    "\n",
    "Also, from a visual standpoint, the glitch seems to be converging to the mean, which in this case is zero since the white noise here is zero centered.\n",
    "\n",
    "# Using the Shapiro Wilks test on smaller parts of a glitch"
   ]
  },
  {
   "cell_type": "markdown",
   "id": "61cf510a",
   "metadata": {},
   "source": [
    "We now take our suspicious glitch and perform the Shapiro-Wilks test on sections of it."
   ]
  },
  {
   "cell_type": "code",
   "execution_count": null,
   "id": "a30cd993",
   "metadata": {},
   "outputs": [],
   "source": [
    "# normality_tests.display_section_statistics(suspicious_glitch.iloc[0],stat_test=\"Shapiro\", sections=16) # 256\n",
    "# normality_tests.display_section_statistics(suspicious_glitch.iloc[0],stat_test=\"Shapiro\", section_size_seconds=0.0625) # 256 (16)\n"
   ]
  },
  {
   "cell_type": "code",
   "execution_count": null,
   "id": "bf813bf2",
   "metadata": {},
   "outputs": [],
   "source": [
    "# normality_tests.display_section_statistics(suspicious_glitch.iloc[0],stat_test=\"Shapiro\", sections=4)\n",
    "# normality_tests.display_section_statistics(suspicious_glitch.iloc[0],stat_test=\"Shapiro\", section_size_seconds=0.25) # 1024 (4)"
   ]
  },
  {
   "cell_type": "code",
   "execution_count": null,
   "id": "ece3196b",
   "metadata": {},
   "outputs": [],
   "source": [
    "# normality_tests.display_section_statistics(suspicious_glitch.iloc[0],stat_test=\"Shapiro\", sections=3)\n",
    "# normality_tests.display_section_statistics(suspicious_glitch.iloc[0],stat_test=\"Shapiro\", section_size_seconds=0.33333) #1365 (3)"
   ]
  },
  {
   "cell_type": "code",
   "execution_count": null,
   "id": "63b50cb8",
   "metadata": {},
   "outputs": [],
   "source": [
    "# normality_tests.display_section_statistics(suspicious_glitch.iloc[0],stat_test=\"Shapiro\", sections=9)\n",
    "# normality_tests.display_section_statistics(suspicious_glitch.iloc[0],stat_test=\"Shapiro\", section_size_seconds=0.11111) #455 (9)"
   ]
  },
  {
   "cell_type": "markdown",
   "id": "0d185746",
   "metadata": {},
   "source": [
    "From the above plots, we see that the Shapiro-Wilk test works well for sections of the glitch samples where it consistently identifies domains not containing the glitch as a \n",
    "\n",
    "# Understanding what the Shapiro-Wilk test tries to do\n",
    "\n",
    "The null hypothesis of this test is that our data comes from a normal distribution. This test only works for univariate, continuous data.\n",
    "\n",
    "Given a sample $x_{1} \\dots x_{n}$, with $n$ as the number of data points the Shapiro-Wilks test statistic is given by $W$ as follows\n",
    "\n",
    "$$\n",
    "W = \\frac{(\\sum_{i=1}^{n}a_{i}x_{(i)})^2}{\\sum_{i=1}^{n}(x_i - \\bar{x})^2}\n",
    "$$\n",
    "\n",
    "If a distribution is normal then, $(\\sum_{i=1}^{n}a_{i}x_{(i)})^2$ should be an estimate of the population's variance $\\sigma^2$\n",
    "\n",
    "The denominator here is also an estimation of population variance $\\sigma^2$\n",
    "\n",
    "So, for our null hypothesis to hold true, $W=1$, since the numerator and denominator are both estimating the variance.\n",
    "\n",
    "For values less than one, it indicates a non-normal distribution\n",
    "\n",
    "### Issues with this test\n",
    "\n",
    "- It won't work well if our data has too many equal values\n",
    "- For a small dataset, our null hypothesis will rarely get rejected\n",
    "- For a large dataset, our null hypothesis will be rejected for tiny differences from normality\n",
    "\n",
    "A large p value doesn't prove that a distribution is normal, but that it is not significantly difference from a normal distribution.\n",
    "\n",
    "### Note\n",
    "\n",
    "Shapiro Wilks test is too sensitive - a histogram/Q-Q plot should be used when assessing t-test/ANOVA assumptions\n",
    "\n",
    "### About \"a\"\n",
    "\n",
    "Taking the numerator\n",
    "\n",
    "$$(\\sum_{i=1}^{n}a_{i}x_{(i)})^2$$\n",
    "\n",
    "Here, $x_{(i)}$ are the [\"order statistics\"](https://youtu.be/gDtkGqLD1R0), that is, the values obtained from the sample when sorted in ascending order.\n",
    "\n",
    "$a_i$ are constants given by\n",
    "\n",
    "$$\n",
    "\\frac{m^TV^{-1}}{||V^{-1}m||}\n",
    "$$\n",
    "\n",
    "Here, $m$ represents a vector of order statistics we would expect from a standard normal distribution.\n",
    "\n",
    "$V$ is the covariance matrix given by\n",
    "\n",
    "$$\n",
    "V = \\mu[X_i - \\mu X_i][X_j - \\mu X_j]\n",
    "$$\n",
    "\n",
    "where $\\mu$ is the expected mean of the distribution.\n",
    "\n",
    "So, for example, if we had two points, $a$ would be $[0.5]$, for 3 points, $[0.375, 0.625]$, for 4 points, $[0.2857, 0.5, 0.7143]$,  and so on.\n",
    "\n",
    "### Q-Q plots\n",
    "\n",
    "These plot quantiles of our data vs expected quantiles of a normal distribution.\n",
    "\n",
    "(Quantile = fraction of points below a given value)\n",
    "![q-q plot](ad_4nxcrzsncc66mesuuafrmu-n91-w2j72w29cr-sb_o5_9y4k4errnbl3ei0req8twyso1snfa3haoctju5kfnadqygfo0micewassf3ljzvx1thwjgoytvchzbxyqmqdsemaovm7beg.avif)\n",
    "\n",
    "# More experimentation with the Exponentially weighted averages\n",
    "\n",
    "A concern I have with exponentially weighted averages is the fact that each of the calculated values depend on a window of values before the current timepoint, hence adding bias to the variance and distribution of every point in the whitened signal. This could lead to a level of non-gaussianity when trying to test our data with the Shapiro-Wilks test. I would like to test this out.\n",
    "\n",
    "Consider the `example_noise` example from before. Here is what it looks like."
   ]
  },
  {
   "cell_type": "code",
   "execution_count": null,
   "id": "00fa0c32",
   "metadata": {},
   "outputs": [],
   "source": [
    "fig = plt.figure(figsize=(18,6))\n",
    "plt.plot(example_noise)\n",
    "plt.xlabel(\"Time (s)\")\n",
    "plt.ylabel(\"Amplitude\")\n",
    "plt.show()\n",
    "\n",
    "print(stats.shapiro(example_noise.value).pvalue)\n",
    "# warnings.filterwarnings(action='once')"
   ]
  },
  {
   "cell_type": "code",
   "execution_count": null,
   "id": "85127b01",
   "metadata": {},
   "outputs": [],
   "source": [
    "fig = plt.figure(figsize=(18,6))\n",
    "plt.plot(ewm_example_5)\n",
    "plt.xlabel(\"Time (s)\")\n",
    "plt.ylabel(\"Amplitude\")\n",
    "plt.show()\n",
    "\n",
    "print(stats.shapiro(ewm_example_5).pvalue)\n",
    "# warnings.filterwarnings(action='once')\n"
   ]
  },
  {
   "cell_type": "markdown",
   "id": "b467e02a",
   "metadata": {},
   "source": [
    "Applying an exponentially weighted average to our data increased the Shapiro test p-value, hence confirming my suspicion. Since exponentially weighted averages supress sudden changes in values, it makes the points seem more uniform than they probably are in reality, hence making this approach unacceptable.\n",
    "\n",
    "However, I do want to see if this could help a bit when there is a glitch in our data. Since the EWA acts as a low-pass filter of sorts, it can attenuate most high amplitudes, while also introducing a bias. In this case, if there exists a glitch, there is a chance that it could be affected by this, putting more of an emphasis on it (p-value <0.05). "
   ]
  },
  {
   "cell_type": "code",
   "execution_count": null,
   "id": "20a8bcee",
   "metadata": {},
   "outputs": [],
   "source": [
    "# fig = plt.figure(figsize=(18,6))\n",
    "# plt.plot(suspicious_glitch['t'].iloc[0], suspicious_glitch['y'].iloc[0])\n",
    "# plt.show()\n",
    "\n",
    "# print(stats.shapiro(suspicious_glitch['y'].iloc[0]).pvalue)"
   ]
  },
  {
   "cell_type": "code",
   "execution_count": null,
   "id": "8bc637e0",
   "metadata": {},
   "outputs": [],
   "source": [
    "# fig = plt.figure(figsize=(18,6))\n",
    "# plt.plot(suspicious_glitch['t'].iloc[0],suspicious_glitch['ewm_y'].iloc[0])\n",
    "# plt.show()\n",
    "\n",
    "# print(stats.shapiro(suspicious_glitch['ewm_y'].iloc[0]).pvalue)"
   ]
  },
  {
   "cell_type": "markdown",
   "id": "1945e188",
   "metadata": {},
   "source": [
    "As expected, this leads to a huge change in the p-value. I want to study this a bit more in detail for all the 50 selected points. "
   ]
  },
  {
   "cell_type": "code",
   "execution_count": null,
   "id": "d77260a2",
   "metadata": {},
   "outputs": [],
   "source": [
    "data_df_tomte['ewm_shapiro_pvalue'] = data_df_tomte['ewm_y'].apply(lambda y: stats.shapiro(y).pvalue)"
   ]
  },
  {
   "cell_type": "code",
   "execution_count": null,
   "id": "92eb9c2d",
   "metadata": {},
   "outputs": [],
   "source": [
    "# fig,ax = plt.subplots(figsize=(6,10))\n",
    "fig,ax = plt.subplots(dpi=100)\n",
    "plt.plot(data_df_tomte['shapiro_pvalue'], label=\"Shapiro p-value\")\n",
    "plt.plot(data_df_tomte['ewm_shapiro_pvalue'], label=\"Shapiro p-value (EWM)\")\n",
    "ax.set_yscale('log')\n",
    "for i in range(len(data_df_tomte)):\n",
    "    plt.axvline(x=i, color='gray', linestyle='--', linewidth=0.5, alpha=0.5)\n",
    "ax.table(cellText=data_df_tomte[['GPStime','shapiro_pvalue','ewm_shapiro_pvalue']].values, colLabels=['GPStime','shapiro_pvalue','ewm_shapiro_pvalue'], rowLabels=data_df_tomte.index, loc='top')\n",
    "# plt.subplots_adjust(left=0.2, top=0.8)\n",
    "plt.legend(fontsize=8)\n",
    "plt.show()"
   ]
  },
  {
   "cell_type": "markdown",
   "id": "d71c88a4",
   "metadata": {},
   "source": [
    "In the above case, we can see that save for a few points, the Shapiro p-values generally have a drastic decrease when the exponentially weighted average is applied to them. This is understandable since we are aware that these samples have a glitch in them.\n",
    "\n",
    "Below, we perform the same test with a bunch of synthetically generated white noise samples to study whether it has the same effect. The null hyopthesis I have here is that since white noise has several frequencies bounded at the same level of frequencies, the p-value will increase, i.e. all the points in our dataset will be supressed."
   ]
  },
  {
   "cell_type": "code",
   "execution_count": null,
   "id": "65933450",
   "metadata": {},
   "outputs": [],
   "source": [
    "def white_noise_shapiro_values(n=50):\n",
    "    np.random.seed(42)\n",
    "    noise_df = pd.DataFrame(columns=['TimeSeries', 'EWM TimeSeries', 'shapiro_pvalue', 'ewm_shapiro_pvalue'])\n",
    "    for i in range(n):\n",
    "        white_noise = TimeSeries(np.random.normal(scale=.1, size=4096), sample_rate=4096)\n",
    "        white_noise_ewm = pd.Series(white_noise.value).ewm(0.98).mean()\n",
    "        noise_df.loc[len(noise_df)] = [white_noise, white_noise_ewm, stats.shapiro(white_noise.value).pvalue, stats.shapiro(white_noise_ewm).pvalue]\n",
    "    return noise_df\n"
   ]
  },
  {
   "cell_type": "code",
   "execution_count": null,
   "id": "92b9710f",
   "metadata": {},
   "outputs": [],
   "source": [
    "white_noise_examples = white_noise_shapiro_values()"
   ]
  },
  {
   "cell_type": "code",
   "execution_count": null,
   "id": "d14be85b",
   "metadata": {},
   "outputs": [],
   "source": [
    "fig,ax = plt.subplots(dpi=100)\n",
    "plt.plot(white_noise_examples['shapiro_pvalue'], label=\"Shapiro p-value\")\n",
    "plt.plot(white_noise_examples['ewm_shapiro_pvalue'], label=\"Shapiro p-value (EWM)\")\n",
    "# ax.set_yscale('log')\n",
    "for i in range(len(white_noise_examples)):\n",
    "    plt.axvline(x=i, color='gray', linestyle='--', linewidth=0.5, alpha=0.5)\n",
    "ax.table(cellText=white_noise_examples[['shapiro_pvalue','ewm_shapiro_pvalue']].values, colLabels=['shapiro_pvalue','ewm_shapiro_pvalue'], rowLabels=white_noise_examples.index, loc='top')\n",
    "# plt.subplots_adjust(left=0.2, top=0.8)\n",
    "plt.legend(fontsize=8)\n",
    "plt.show()"
   ]
  },
  {
   "cell_type": "markdown",
   "id": "e44df4d3",
   "metadata": {},
   "source": [
    "Here we see that even for gaussian noise there can be variations in the Shapiro p-value both below and above the 0.05 threshold\n",
    "\n",
    "What can be inferred from here is that the exponentially weighted might not be a good approach.\n",
    "\n",
    "Now I want to shift focus back onto normality testing of our dataset. First I want to start plotting Q-Q plots of the data, starting with the suspicious glitch."
   ]
  },
  {
   "cell_type": "code",
   "execution_count": null,
   "id": "f2a645fc",
   "metadata": {},
   "outputs": [],
   "source": [
    "# normality_tests.display_probability_plot(suspicious_glitch.iloc[0])"
   ]
  },
  {
   "cell_type": "code",
   "execution_count": null,
   "id": "e9cb2bfa",
   "metadata": {},
   "outputs": [],
   "source": [
    "normality_tests.display_probability_plot(data_df_tomte.iloc[18])"
   ]
  },
  {
   "cell_type": "code",
   "execution_count": null,
   "id": "3add3594-c072-4844-a6b1-0a74fe13cd77",
   "metadata": {},
   "outputs": [],
   "source": [
    "normality_tests.display_probability_plot(data_df_tomte.iloc[10])"
   ]
  },
  {
   "cell_type": "code",
   "execution_count": null,
   "id": "7dc003c5-9fee-45d9-a595-fae6ebc51f10",
   "metadata": {},
   "outputs": [],
   "source": [
    "# plt.plot(suspicious_glitch['y'].iloc[0])"
   ]
  },
  {
   "cell_type": "code",
   "execution_count": null,
   "id": "1bd4decf-fb93-4eb2-83a9-60cffd9df24c",
   "metadata": {},
   "outputs": [],
   "source": [
    "# section_list = normality_tests.display_section_statistics(suspicious_glitch.iloc[0],stat_test=\"Shapiro\", sections=21)\n",
    "# normality_tests.display_section_statistics(suspicious_glitch.iloc[0],stat_test=\"Shapiro\", section_size_seconds=0.04761) #195 (21)"
   ]
  },
  {
   "cell_type": "code",
   "execution_count": null,
   "id": "16b835a0",
   "metadata": {},
   "outputs": [],
   "source": [
    "# norm_dist = stats.norm.rvs(size=len(suspicious_glitch.iloc[0][\"y\"]), random_state=np.random.default_rng(), scale=50)\n",
    "# stats.ks_2samp(suspicious_glitch.iloc[0][\"y\"], norm_dist)"
   ]
  },
  {
   "cell_type": "code",
   "execution_count": null,
   "id": "a597a416",
   "metadata": {},
   "outputs": [],
   "source": [
    "\n",
    "# plt.hist(norm_dist, histtype='step')\n",
    "# plt.hist(suspicious_glitch.iloc[0][\"y\"], histtype='step')\n",
    "# plt.show()"
   ]
  },
  {
   "cell_type": "code",
   "execution_count": null,
   "id": "1fa135ee",
   "metadata": {},
   "outputs": [],
   "source": [
    "# normality_tests.display_section_statistics(suspicious_glitch.iloc[0],stat_test=\"Anderson\", section_size_seconds=0.04761)"
   ]
  },
  {
   "cell_type": "code",
   "execution_count": null,
   "id": "dc1b5291",
   "metadata": {},
   "outputs": [],
   "source": [
    "# stats.ks_2samp(suspicious_glitch.iloc[0][\"y\"], stats.norm.rvs(size=len(suspicious_glitch.iloc[0][\"y\"]), random_state=np.random.default_rng()))"
   ]
  },
  {
   "cell_type": "code",
   "execution_count": null,
   "id": "ceb16138",
   "metadata": {},
   "outputs": [],
   "source": [
    "selected.loc[selected[\"GPStime\"] == 1244889828.137]"
   ]
  },
  {
   "cell_type": "code",
   "execution_count": null,
   "id": "6b32da4c",
   "metadata": {},
   "outputs": [],
   "source": [
    "# normality_tests.display_section_statistics(data_df_tomte.iloc[28],stat_test=\"Shapiro\", sections=3)\n",
    "normality_tests.display_section_statistics(data_df_tomte.iloc[28],stat_test=\"Shapiro\", section_size_seconds=0.33333) # (3)"
   ]
  },
  {
   "cell_type": "code",
   "execution_count": null,
   "id": "67fb31a7",
   "metadata": {},
   "outputs": [],
   "source": [
    "# normality_tests.display_section_statistics(data_df_tomte.iloc[28],stat_test=\"Shapiro\", sections=9)\n",
    "normality_tests.display_section_statistics(data_df_tomte.iloc[28],stat_test=\"Shapiro\", section_size_seconds=0.11111) # (9)"
   ]
  },
  {
   "cell_type": "code",
   "execution_count": null,
   "id": "81c9ff01",
   "metadata": {},
   "outputs": [],
   "source": [
    "normality_tests.display_probability_plot(data_df_tomte.iloc[28])"
   ]
  },
  {
   "cell_type": "code",
   "execution_count": null,
   "id": "d773fc7d",
   "metadata": {},
   "outputs": [],
   "source": [
    "# normality_tests.display_section_statistics(data_df_tomte.iloc[28],stat_test=\"Shapiro\", sections=21)\n",
    "normality_tests.display_section_statistics(data_df_tomte.iloc[28],stat_test=\"Shapiro\", section_size_seconds=0.04761) # (21)"
   ]
  },
  {
   "cell_type": "code",
   "execution_count": null,
   "id": "3243a8e8",
   "metadata": {},
   "outputs": [],
   "source": [
    "# normality_tests.display_section_statistics(data_df_tomte.iloc[88],stat_test=\"Shapiro\", sections=9)\n",
    "normality_tests.display_section_statistics(data_df_tomte.iloc[88],stat_test=\"Shapiro\", section_size_seconds=0.33333) # (9)"
   ]
  },
  {
   "cell_type": "markdown",
   "id": "7d464e79",
   "metadata": {},
   "source": [
    "Up to this point I have tested the gitch with a few statistical tests of normality, mainly focusing on the Shapiro-Wilks test. The initial assumption was that the SW test worked well in identifying the 1 second glitch sample to be non-gaussian due to the low p-values. However, on checking the Q-Q plot of the samples against normal distributions, it is found that the samples are actually more akin to gaussian distributions. On testing with smaller chunks of the signal, the Shapiro-Wilks test is able to consistently identify gaussian and non-gaussian sections of the signal.\n",
    "\n",
    "Hence we see that the test seems to work relatively well when the number of data points per sample is low, however, when we approach a large number of points, say close to 5000, the test fails since the signal represents white noise, giving us a false negatives (Our whitened glitch being identified as gaussian) for a huge portion of our data.\n",
    "\n",
    "A good use case for what we have experimented with till now could be using the Shapiro on the subsection around our glitch (around 0.25 seconds)\n",
    "\n",
    "I now want a function which can allow us to study the sample signal using the Shapiro-Wilks, Kolmogorov-Smirnov and Anderson-Darling tests, while also allowing the isolation of the glitched portions of the data for a better understanding of its gaussuanity. I will also be looking at the skewness and kurtosis of our samples to check by how much each sample differs from a normal distribution."
   ]
  },
  {
   "cell_type": "code",
   "execution_count": null,
   "id": "74c0129b",
   "metadata": {},
   "outputs": [],
   "source": [
    "# normality_tests.display_section_statistics(suspicious_glitch.iloc[0],stat_test=\"Anderson\", sections=9)\n",
    "# normality_tests.display_section_statistics(suspicious_glitch.iloc[0],stat_test=\"Anderson\", section_size_seconds=0.33333) # (9)"
   ]
  },
  {
   "cell_type": "code",
   "execution_count": null,
   "id": "8a07bde8",
   "metadata": {},
   "outputs": [],
   "source": [
    "# normality_tests.display_section_statistics(data_df_tomte.iloc[28],stat_test=\"Anderson\", sections=9)\n",
    "normality_tests.display_section_statistics(data_df_tomte.iloc[28],stat_test=\"Anderson\", section_size_seconds=0.11111) # (9)\n"
   ]
  },
  {
   "cell_type": "code",
   "execution_count": null,
   "id": "bf4708f1",
   "metadata": {},
   "outputs": [],
   "source": [
    "# normality_tests.display_section_statistics(data_df_tomte.iloc[28],stat_test=\"Anderson\", sections=21)\n",
    "normality_tests.display_section_statistics(data_df_tomte.iloc[28],stat_test=\"Anderson\", section_size_seconds=0.04761) # (21)"
   ]
  },
  {
   "cell_type": "code",
   "execution_count": null,
   "metadata": {},
   "outputs": [],
   "source": [
    "# normality_tests.display_section_statistics(data_df_tomte.iloc[28],stat_test=\"Anderson\", sections=21)\n",
    "normality_tests.display_section_statistics(data_df_tomte.iloc[28],stat_test=\"Anderson\", section_size_seconds=0.04761) # (21) "
   ]
  },
  {
   "cell_type": "code",
   "execution_count": null,
   "id": "1d7ec408",
   "metadata": {},
   "outputs": [],
   "source": [
    "# normality_tests.display_section_statistics(data_df_tomte.iloc[28],stat_test=\"Anderson\", sections=21)\n",
    "normality_tests.display_section_statistics(data_df_tomte.iloc[28],stat_test=\"Anderson\", section_size_seconds=0.04761) # (21)"
   ]
  },
  {
   "cell_type": "code",
   "execution_count": null,
   "id": "e5cc3abc",
   "metadata": {},
   "outputs": [],
   "source": [
    "# normality_tests.display_section_statistics(data_df_tomte.iloc[28],stat_test=\"KS\", sections=9)\n",
    "normality_tests.display_section_statistics(data_df_tomte.iloc[28],stat_test=\"KS\", section_size_seconds=0.11111) # (9)"
   ]
  },
  {
   "cell_type": "markdown",
   "id": "d07ea7b1",
   "metadata": {},
   "source": [
    "This glitch, for some reason, fails most of the tests. I want to study it a bit."
   ]
  },
  {
   "cell_type": "markdown",
   "id": "5aac6bd5",
   "metadata": {},
   "source": [
    "[This](https://stats.stackexchange.com/questions/20793/what-is-gaussianity-and-how-do-you-perform-gaussianity-testing-in-macroeconom) stackexchange post goes a bit into testing gaussianity for time series information that could be useful. It, however criticizes the approach of using elliptically symmetric distributions (normal distributions) as a way to test gaussianity of a timeseries."
   ]
  },
  {
   "cell_type": "code",
   "execution_count": null,
   "id": "2e105689",
   "metadata": {},
   "outputs": [],
   "source": [
    "plt.hist(data_df_tomte['skew'])\n",
    "plt.show()"
   ]
  },
  {
   "cell_type": "code",
   "execution_count": null,
   "id": "d8eb0008",
   "metadata": {},
   "outputs": [],
   "source": [
    "plt.hist(data_df_tomte['kurtosis'])\n",
    "plt.show()"
   ]
  },
  {
   "cell_type": "code",
   "execution_count": null,
   "id": "dcc8e207",
   "metadata": {},
   "outputs": [],
   "source": [
    "# normality_tests.section_statistics(data_df_tomte.iloc[28],stat_test=\"KS\", sections=9, display_plots=False)\n",
    "normality_tests.display_section_statistics(data_df_tomte.iloc[28],stat_test=\"KS\", section_size_seconds=0.11111) # (9)"
   ]
  },
  {
   "cell_type": "code",
   "execution_count": null,
   "id": "e34c470c",
   "metadata": {},
   "outputs": [],
   "source": [
    "# outlier_glitch = data_df_tomte.loc[data_df_tomte[\"GPStime\"] == 1248343512.793]"
   ]
  },
  {
   "cell_type": "code",
   "execution_count": null,
   "id": "2278c681",
   "metadata": {},
   "outputs": [],
   "source": [
    "# outlier_glitch"
   ]
  },
  {
   "cell_type": "markdown",
   "id": "2340904d",
   "metadata": {},
   "source": [
    "There is one glitch that fails the Shapiro-Wilks test. I want to study this a bit deeper."
   ]
  },
  {
   "cell_type": "code",
   "execution_count": null,
   "id": "b6953d9a",
   "metadata": {},
   "outputs": [],
   "source": [
    "# normality_tests.display_glitch_plots(outlier_glitch,0)"
   ]
  },
  {
   "cell_type": "code",
   "execution_count": null,
   "id": "b8e5d041",
   "metadata": {},
   "outputs": [],
   "source": [
    "# normality_tests.display_probability_plot(outlier_glitch.iloc[0])"
   ]
  },
  {
   "cell_type": "code",
   "execution_count": null,
   "id": "56ba3d70",
   "metadata": {},
   "outputs": [],
   "source": [
    "# normality_tests.display_section_statistics(outlier_glitch.iloc[0], section_size_seconds=0.11111)"
   ]
  },
  {
   "cell_type": "markdown",
   "id": "da52b8d4",
   "metadata": {},
   "source": [
    "# Testing GravitySpyTable/EventTable\n",
    "\n",
    "For the below code to work you will need a few packages to be installed as follows\n",
    "\n",
    "```bash\n",
    "pip install sqlalchemy dotenv psycopg2\n",
    "```"
   ]
  },
  {
   "cell_type": "code",
   "execution_count": null,
   "id": "0940b8b8",
   "metadata": {},
   "outputs": [],
   "source": [
    "import os\n",
    "from dotenv import load_dotenv\n",
    "from gwpy.table import EventTable\n",
    "from gwpy.table import GravitySpyTable"
   ]
  },
  {
   "cell_type": "markdown",
   "id": "f96b81f5",
   "metadata": {},
   "source": [
    "For the code from here on out to work, you will need to use `.env` files to load a username and password unique to you. Make a `.env` file in the same folder as this notebook with the following information\n",
    "\n",
    "```env\n",
    "GRAVITYSPY_DATABASE_USER='username'\n",
    "GRAVITYSPY_DATABASE_PASSWD='password'\n",
    "```\n",
    "\n",
    "The code below adds the GravitySpy database username and password from the .env file to your system environment variable which can then be used by `GravitySpyTable` to authenticate you as a valid LIGO member accessing the information. More information on this can be found in the [documentation](https://gwpy.github.io/docs/latest/table/io/)"
   ]
  },
  {
   "cell_type": "code",
   "execution_count": null,
   "id": "38183fd3",
   "metadata": {},
   "outputs": [],
   "source": [
    "load_dotenv()\n",
    "GRAVITYSPY_DATABASE_USER = os.getenv('GRAVITYSPY_DATABASE_USER')\n",
    "GRAVITYSPY_DATABASE_PASSWD = os.getenv('GRAVITYSPY_DATABASE_PASSWD')"
   ]
  },
  {
   "cell_type": "markdown",
   "id": "80af0012",
   "metadata": {},
   "source": [
    "Now that the above cell has been run, we can now access the dataset of our choice as follows."
   ]
  },
  {
   "cell_type": "code",
   "execution_count": null,
   "id": "a731b09a",
   "metadata": {},
   "outputs": [],
   "source": [
    "if not os.path.exists(\"./gspy_glitches\"):\n",
    "    os.makedirs(\"./gspy_glitches\")\n",
    "if not os.path.exists(\"./gspy_glitches/gspy_tomtes.csv\"):\n",
    "    tomtes = GravitySpyTable.fetch(\n",
    "        \"gravityspy\",\n",
    "        \"glitches\",\n",
    "        selection=\"ml_label=Tomte\"\n",
    "    ).to_pandas()\n",
    "    tomtes.to_csv(\"gspy_glitches/gspy_tomtes.csv\", index=False)"
   ]
  },
  {
   "cell_type": "code",
   "execution_count": null,
   "id": "0477d77b",
   "metadata": {},
   "outputs": [],
   "source": [
    "if not os.path.exists(\"./gspy_glitches\"):\n",
    "    os.makedirs(\"./gspy_glitches\")\n",
    "if not os.path.exists(\"./gspy_glitches/gspy_extremely_loud.csv\"):\n",
    "    extremely_loud = GravitySpyTable.fetch(\n",
    "        \"gravityspy\",\n",
    "        \"glitches\",\n",
    "        selection=\"ml_label=Extremely_Loud\"\n",
    "    ).to_pandas()\n",
    "    extremely_loud.to_csv(\"gspy_glitches/gspy_extremely_loud.csv\", index=False)"
   ]
  },
  {
   "cell_type": "markdown",
   "id": "614a3527",
   "metadata": {},
   "source": [
    "Hence, loading up datasets from GravitySpy is much easier than anticipated."
   ]
  },
  {
   "cell_type": "code",
   "execution_count": null,
   "id": "566e0530",
   "metadata": {},
   "outputs": [],
   "source": [
    "from sklearn.preprocessing import MinMaxScaler\n",
    "\n",
    "scaler = MinMaxScaler(feature_range=(-4,4))\n",
    "# fig,ax = plt.subplots(figsize=(6,10))\n",
    "\n",
    "fig = plt.figure(dpi=100)\n",
    "# plt.hist(data_df_tomte['y'].iloc[0], label=\"Shapiro p-value\", histtype='step')\n",
    "# plt.hist(normalize(data_df_tomte['y'].iloc[0].reshape(-1,1),axis=0), label=\"y (Normalized)\", histtype='step')\n",
    "plt.hist(scaler.fit_transform(data_df_tomte['y'].iloc[4].reshape(-1,1)), label=\"Shapiro p-value\", histtype='step')\n",
    "plt.hist(stats.norm.rvs(size=len(data_df_tomte['y'].iloc[4]), random_state=np.random.default_rng()), label=\"y (Normalized)\", histtype='step')\n",
    "\n",
    "plt.show()"
   ]
  },
  {
   "cell_type": "code",
   "execution_count": null,
   "id": "557a208a",
   "metadata": {},
   "outputs": [],
   "source": [
    "stats.ks_2samp(data_df_tomte['y'].iloc[4], stats.norm.rvs(size=len(data_df_tomte['y'].iloc[4]), random_state=np.random.default_rng()))"
   ]
  },
  {
   "cell_type": "code",
   "execution_count": null,
   "id": "6282634e",
   "metadata": {},
   "outputs": [],
   "source": [
    "stats.ks_2samp(list(scaler.fit_transform(data_df_tomte['y'].iloc[4].reshape(-1,1))[:,0]), stats.norm.rvs(size=len(data_df_tomte['y'].iloc[4]), random_state=np.random.default_rng()))"
   ]
  },
  {
   "cell_type": "code",
   "execution_count": null,
   "id": "c5ea7de6",
   "metadata": {},
   "outputs": [],
   "source": [
    "data_df_tomte.iloc[4]"
   ]
  },
  {
   "cell_type": "code",
   "execution_count": null,
   "id": "4d03bb69",
   "metadata": {},
   "outputs": [],
   "source": [
    "stats.shapiro(scaler.fit_transform(data_df_tomte['y'].iloc[4].reshape(-1,1)))"
   ]
  },
  {
   "cell_type": "code",
   "execution_count": null,
   "id": "f0e42af6",
   "metadata": {},
   "outputs": [],
   "source": [
    "stats.shapiro(data_df_tomte['y'].iloc[4])"
   ]
  },
  {
   "cell_type": "code",
   "execution_count": null,
   "id": "ddb110c9",
   "metadata": {},
   "outputs": [],
   "source": [
    "scaler = MinMaxScaler(feature_range=(-4,4))\n",
    "# fig,ax = plt.subplots(figsize=(6,10))\n",
    "\n",
    "fig, ax = plt.subplots(1,2,dpi=100, figsize=(16,8))\n",
    "# plt.hist(data_df_tomte['y'].iloc[0], label=\"Shapiro p-value\", histtype='step')\n",
    "# plt.hist(normalize(data_df_tomte['y'].iloc[0].reshape(-1,1),axis=0), label=\"y (Normalized)\", histtype='step')\n",
    "ax[0].plot(data_df_tomte['t'].iloc[4], scaler.fit_transform(data_df_tomte['y'].iloc[4].reshape(-1,1)), label=\"Shapiro p-value\")\n",
    "ax[1].plot(data_df_tomte['t'].iloc[4], data_df_tomte['y'].iloc[4], label=\"Shapiro p-value\")\n",
    "# plt.hist(stats.norm.rvs(size=len(data_df_tomte['y'].iloc[0]), random_state=np.random.default_rng()), label=\"y (Normalized)\", histtype='step')\n",
    "\n",
    "plt.show()"
   ]
  },
  {
   "cell_type": "code",
   "execution_count": null,
   "id": "03f70563",
   "metadata": {},
   "outputs": [],
   "source": [
    "data_df_tomte['y'].iloc[0]"
   ]
  },
  {
   "cell_type": "code",
   "execution_count": null,
   "id": "11658c15",
   "metadata": {},
   "outputs": [],
   "source": [
    "scaler = MinMaxScaler(feature_range=(-4,4))\n",
    "x = scaler.fit_transform(data_df_tomte['y'].iloc[0].reshape(-1,1))"
   ]
  },
  {
   "cell_type": "code",
   "execution_count": null,
   "id": "fddc27e0",
   "metadata": {},
   "outputs": [],
   "source": [
    "data_df_tomte['y'].iloc[0].reshape(1,-1).shape"
   ]
  },
  {
   "cell_type": "markdown",
   "id": "dfa21dc3",
   "metadata": {},
   "source": [
    "# Confusion Matrices for the chosen statistics\n"
   ]
  },
  {
   "cell_type": "code",
   "execution_count": 17,
   "id": "063b182a",
   "metadata": {},
   "outputs": [
    {
     "data": {
      "image/png": "[encoded data removed]",
      "text/plain": [
       "<Figure size 640x480 with 2 Axes>"
      ]
     },
     "metadata": {},
     "output_type": "display_data"
    }
   ],
   "source": [
    "normality_tests.generate_confusion_matrix(data_df_tomte)"
   ]
  }
 ],
 "metadata": {
  "kernelspec": {
   "display_name": "gengli_env",
   "language": "python",
   "name": "python3"
  },
  "language_info": {
   "codemirror_mode": {
    "name": "ipython",
    "version": 3
   },
   "file_extension": ".py",
   "mimetype": "text/x-python",
   "name": "python",
   "nbconvert_exporter": "python",
   "pygments_lexer": "ipython3",
   "version": "3.12.2"
  }
 },
 "nbformat": 4,
 "nbformat_minor": 5
}
