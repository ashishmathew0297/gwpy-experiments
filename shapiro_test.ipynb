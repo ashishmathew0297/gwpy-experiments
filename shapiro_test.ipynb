{
 "cells": [
  {
   "cell_type": "code",
   "execution_count": 16,
   "id": "0d918c0a-6c4d-4b60-84db-11483c71c1bb",
   "metadata": {},
   "outputs": [],
   "source": [
    "import warnings\n",
    "warnings.filterwarnings('ignore')\n",
    "\n",
    "import math\n",
    "import pycbc\n",
    "import numpy as np\n",
    "import pandas as pd\n",
    "from scipy import stats\n",
    "import matplotlib.pyplot as plt\n",
    "from gwpy.timeseries import TimeSeries\n",
    "from matplotlib.ticker import ScalarFormatter\n"
   ]
  },
  {
   "cell_type": "markdown",
   "id": "20902f49-3830-498c-bff8-f51758ffcc61",
   "metadata": {},
   "source": [
    "We load the CSV that contains all glitch times from the first half of the third observing run."
   ]
  },
  {
   "cell_type": "code",
   "execution_count": 17,
   "id": "c9719edc",
   "metadata": {},
   "outputs": [],
   "source": [
    "from modules import normality_tests"
   ]
  },
  {
   "cell_type": "code",
   "execution_count": 18,
   "id": "44dda773-3b93-41cc-b659-fcd4a0e30d5c",
   "metadata": {},
   "outputs": [
    {
     "data": {
      "text/plain": [
       "Index(['GPStime', 'peakFreq', 'snr', 'amplitude', 'centralFreq', 'duration',\n",
       "       'bandwidth', 'chisq', 'chisqDof', 'confidence', 'id', 'ifo', 'label',\n",
       "       'imgUrl', 'Q-value'],\n",
       "      dtype='object')"
      ]
     },
     "execution_count": 18,
     "metadata": {},
     "output_type": "execute_result"
    }
   ],
   "source": [
    "glitches = pd.read_csv('./glitches/O3a_allifo.csv')\n",
    "glitches.columns"
   ]
  },
  {
   "cell_type": "code",
   "execution_count": 19,
   "id": "ffa5e0dd",
   "metadata": {},
   "outputs": [],
   "source": [
    "glitches = glitches[~glitches.duplicated(subset=['GPStime'], keep='first')]"
   ]
  },
  {
   "cell_type": "code",
   "execution_count": 20,
   "id": "6d28c677",
   "metadata": {},
   "outputs": [
    {
     "data": {
      "text/plain": [
       "(172765, 15)"
      ]
     },
     "execution_count": 20,
     "metadata": {},
     "output_type": "execute_result"
    }
   ],
   "source": [
    "glitches.shape"
   ]
  },
  {
   "cell_type": "markdown",
   "id": "1e59afa3-ad78-4356-b153-842a4026175f",
   "metadata": {},
   "source": [
    "As you can see it contains a bunch of columns. \n",
    "- **GPStime**: The timestamp in GPS format indicating the event time.\n",
    "- **peakFreq**: The frequency at which the signal has the highest intensity.\n",
    "- **snr**: Signal-to-noise ratio, indicating the clarity of the signal.\n",
    "- **amplitude**: The strength or height of the signal wave.\n",
    "- **centralFreq**: The central frequency of the signal's spectral content.\n",
    "- **duration**: The time span of the signal event.\n",
    "- **bandwidth**: The range of frequencies covered by the signal.\n",
    "- **chisq**: The chi-squared statistic for assessing signal fit quality.\n",
    "- **chisqDof**: The degrees of freedom used in the chi-squared test.\n",
    "- **confidence**: The likelihood or certainty of the detection.\n",
    "- **id**: A unique identifier for the signal event.\n",
    "- **ifo**: The interferometer associated with the signal detection.\n",
    "- **label**: Classification or annotation of the event.\n",
    "- **imgUrl**: Link to an image or visual representation of the signal.\n",
    "- **Q-value**: Quality factor indicating the sharpness of the signal.\n",
    "\n",
    "Let's take a look at the **label** column to see all the different glitch classes."
   ]
  },
  {
   "cell_type": "code",
   "execution_count": 21,
   "id": "78115f48-943a-4032-a630-0f33e4bf8497",
   "metadata": {},
   "outputs": [
    {
     "data": {
      "text/plain": [
       "array(['Extremely_Loud', 'Scattered_Light', 'Scratchy',\n",
       "       'Power_Line', 'Koi_Fish', 'Whistle',\n",
       "       'Low_Frequency_Burst', 'Tomte', 'Repeating_Blips',\n",
       "       'Fast_Scattering', 'Blip', 'Blip_Low_Frequency',\n",
       "       'Violin_Mode', 'Helix', 'None_of_the_Above',\n",
       "       'Low_Frequency_Lines', 'Wandering_Line', 'No_Glitch',\n",
       "       'Air_Compressor', 'Chirp', 'Light_Modulation',\n",
       "       'Paired_Doves', '1400Ripples', '1080Lines'], dtype=object)"
      ]
     },
     "execution_count": 21,
     "metadata": {},
     "output_type": "execute_result"
    }
   ],
   "source": [
    "glitches['label'].unique()"
   ]
  },
  {
   "cell_type": "markdown",
   "id": "a36bc86b-f8b6-4044-8c05-7c9655f11629",
   "metadata": {},
   "source": [
    "As a dummy example let's select 'Tomte' glitches from LIGO Livingston (L1)"
   ]
  },
  {
   "cell_type": "code",
   "execution_count": 22,
   "id": "1ad46ed1-8d18-46b1-b66f-98496d183ac8",
   "metadata": {},
   "outputs": [
    {
     "data": {
      "text/plain": [
       "(18708, 18708)"
      ]
     },
     "execution_count": 22,
     "metadata": {},
     "output_type": "execute_result"
    }
   ],
   "source": [
    "selected = glitches[(glitches['label'] == 'Tomte') & (glitches['ifo'] == 'L1')]\n",
    "len(selected), len(selected)"
   ]
  },
  {
   "cell_type": "code",
   "execution_count": 23,
   "id": "852e3ef9-f0a9-4c5c-803d-f1002db5da96",
   "metadata": {},
   "outputs": [
    {
     "data": {
      "text/plain": [
       "np.float64(0.66)"
      ]
     },
     "execution_count": 23,
     "metadata": {},
     "output_type": "execute_result"
    }
   ],
   "source": [
    "np.round(np.mean(selected['duration'].values), 2)"
   ]
  },
  {
   "cell_type": "markdown",
   "id": "412c0098-53f0-4cff-b2ee-522536f8b12b",
   "metadata": {},
   "source": [
    "You can see that 'Tomte' of 'L1' is a subset of the initial data set. How long are they?"
   ]
  },
  {
   "cell_type": "code",
   "execution_count": 24,
   "id": "619d6f8a",
   "metadata": {},
   "outputs": [
    {
     "data": {
      "text/plain": [
       "array([ 0.039,  0.047,  0.055, ..., 13.169, 19.25 , 24.813])"
      ]
     },
     "execution_count": 24,
     "metadata": {},
     "output_type": "execute_result"
    }
   ],
   "source": [
    "np.unique(selected['duration'])"
   ]
  },
  {
   "cell_type": "code",
   "execution_count": 25,
   "id": "e5965cfd",
   "metadata": {},
   "outputs": [
    {
     "data": {
      "text/html": [
       "<div>\n",
       "<style scoped>\n",
       "    .dataframe tbody tr th:only-of-type {\n",
       "        vertical-align: middle;\n",
       "    }\n",
       "\n",
       "    .dataframe tbody tr th {\n",
       "        vertical-align: top;\n",
       "    }\n",
       "\n",
       "    .dataframe thead th {\n",
       "        text-align: right;\n",
       "    }\n",
       "</style>\n",
       "<table border=\"1\" class=\"dataframe\">\n",
       "  <thead>\n",
       "    <tr style=\"text-align: right;\">\n",
       "      <th></th>\n",
       "      <th>GPStime</th>\n",
       "      <th>peakFreq</th>\n",
       "      <th>snr</th>\n",
       "      <th>amplitude</th>\n",
       "      <th>centralFreq</th>\n",
       "      <th>duration</th>\n",
       "      <th>bandwidth</th>\n",
       "      <th>chisq</th>\n",
       "      <th>chisqDof</th>\n",
       "      <th>confidence</th>\n",
       "      <th>id</th>\n",
       "      <th>ifo</th>\n",
       "      <th>label</th>\n",
       "      <th>imgUrl</th>\n",
       "      <th>Q-value</th>\n",
       "    </tr>\n",
       "  </thead>\n",
       "  <tbody>\n",
       "    <tr>\n",
       "      <th>1041</th>\n",
       "      <td>1.248344e+09</td>\n",
       "      <td>39.789</td>\n",
       "      <td>22.439</td>\n",
       "      <td>1.760000e-22</td>\n",
       "      <td>3799.501</td>\n",
       "      <td>0.875</td>\n",
       "      <td>7568.411621</td>\n",
       "      <td>0.0</td>\n",
       "      <td>0.0</td>\n",
       "      <td>1.0</td>\n",
       "      <td>HyHGT8uxFq</td>\n",
       "      <td>L1</td>\n",
       "      <td>Tomte</td>\n",
       "      <td>https://ldas-jobs.ligo-la.caltech.edu/~gravity...</td>\n",
       "      <td>5.657</td>\n",
       "    </tr>\n",
       "  </tbody>\n",
       "</table>\n",
       "</div>"
      ],
      "text/plain": [
       "           GPStime  peakFreq     snr     amplitude  centralFreq  duration  \\\n",
       "1041  1.248344e+09    39.789  22.439  1.760000e-22     3799.501     0.875   \n",
       "\n",
       "        bandwidth  chisq  chisqDof  confidence          id ifo  label  \\\n",
       "1041  7568.411621    0.0       0.0         1.0  HyHGT8uxFq  L1  Tomte   \n",
       "\n",
       "                                                 imgUrl  Q-value  \n",
       "1041  https://ldas-jobs.ligo-la.caltech.edu/~gravity...    5.657  "
      ]
     },
     "execution_count": 25,
     "metadata": {},
     "output_type": "execute_result"
    }
   ],
   "source": [
    "selected.loc[selected[\"GPStime\"] == 1248343512.793]"
   ]
  },
  {
   "cell_type": "code",
   "execution_count": 26,
   "id": "7d1de07c-0e08-4a89-8530-4d5f316eb843",
   "metadata": {},
   "outputs": [
    {
     "data": {
      "text/plain": [
       "<matplotlib.legend.Legend at 0x7f004c2d7680>"
      ]
     },
     "execution_count": 26,
     "metadata": {},
     "output_type": "execute_result"
    },
    {
     "data": {
      "image/png": "[encoded data removed]",
      "text/plain": [
       "<Figure size 640x480 with 1 Axes>"
      ]
     },
     "metadata": {},
     "output_type": "display_data"
    }
   ],
   "source": [
    "plt.hist(selected['duration'].values, bins=100, density=True,\n",
    "         label=f'$\\mu=$'+str(np.round(np.mean(selected['duration'].values), 3))+' s')\n",
    "plt.yscale('log')\n",
    "plt.xlabel('Duration (s)')\n",
    "plt.xlabel('Probability density')\n",
    "plt.legend()"
   ]
  },
  {
   "cell_type": "markdown",
   "id": "6bc7e48f-1d92-483d-8830-79ba11184995",
   "metadata": {},
   "source": [
    "On average they are 0.664 s long, so we can visualize then in 2s. Let's pick a random example and visualize it.\n",
    "\n",
    "The `normality_tests` module contains a function `fetch_glitch_data()` that fetches info from the LIGO OSC for L1 at a given gps time for 3 seconds at a sample rate of 4096. This sample is then converted to the pycbc format and whitened.\n",
    "\n",
    "```python\n",
    "noise = TimeSeries.fetch_open_data(ifo, g_star - tw ,  g_star + tw, sample_rate=srate)\n",
    "```"
   ]
  },
  {
   "cell_type": "code",
   "execution_count": 27,
   "id": "527d4805",
   "metadata": {},
   "outputs": [],
   "source": [
    "data_df_tomte = normality_tests.fetch_glitch_data(selected, tw=3, begin=0, end=150)\n",
    "data_df_tomte['shapiro_pvalue'] = data_df_tomte['y'].apply(lambda y: stats.shapiro(y).pvalue) \n"
   ]
  },
  {
   "cell_type": "code",
   "execution_count": 15,
   "id": "df8a2ddc",
   "metadata": {},
   "outputs": [
    {
     "data": {
      "image/png": "[encoded data removed]",
      "text/plain": [
       "<Figure size 640x480 with 1 Axes>"
      ]
     },
     "metadata": {},
     "output_type": "display_data"
    },
    {
     "name": "stdout",
     "output_type": "stream",
     "text": [
      "Number of Shapiro p-values above 0.05: 1\n",
      "Max Shapiro p-value: 0.11571115313674346\n",
      "Min Shapiro p-value: 1.8640144749932296e-36\n"
     ]
    }
   ],
   "source": [
    "normality_tests.shapiro_pvalue_histogram(data_df_tomte, 3)"
   ]
  },
  {
   "cell_type": "markdown",
   "id": "844fd656-8b6a-46af-96f0-17f4451ae33c",
   "metadata": {},
   "source": [
    "OK, now we can check its Gaussianity with Saphiro test. We test that the input time series (y) is Gaussian, against the alternative hypothesis that it is non-Gaussian. If the test yields a p-value below $\\alpha=0.05$ it means that the input data is non-Gaussian"
   ]
  },
  {
   "cell_type": "markdown",
   "id": "c97ac2dd",
   "metadata": {},
   "source": [
    "Using the code above, we lost up the dataset"
   ]
  },
  {
   "cell_type": "markdown",
   "id": "e5edaa53",
   "metadata": {},
   "source": [
    "Changing the sampling rate increases the amount of times we smaple from the data per second. I want to know how the p-values would vary with this change. The gwpy [documentation](https://gwpy.github.io/docs/latest/api/gwpy.timeseries.TimeSeries/#gwpy.timeseries.TimeSeries.fetch_open_data) states that there can be event data with a 16384 Hz sampling rate which is what I will be using as a reference."
   ]
  },
  {
   "cell_type": "code",
   "execution_count": null,
   "id": "f10674ae",
   "metadata": {},
   "outputs": [],
   "source": [
    "# def p_values_with_sample_rate(begin=0,end=100):\n",
    "#     data_df_4096 = get_noise_data(selected, tw=3, begin=begin, end=end)\n",
    "#     data_df_16384 = get_noise_data(selected, tw=3, begin=begin, end=end)\n",
    "\n",
    "#     data_df_4096['shapiro_pvalue'] = data_df_4096['y'].apply(lambda y: stats.shapiro(y).pvalue)\n",
    "#     data_df_16384['shapiro_pvalue'] = data_df_16384['y'].apply(lambda y: stats.shapiro(y).pvalue)\n",
    "    \n",
    "#     display_shapiro_stats(data_df_4096, 3)\n",
    "#     display_shapiro_stats(data_df_16384, 3)\n",
    "\n",
    "#     return data_df_4096, data_df_16384\n",
    "\n",
    "\n",
    "# data_df_4096, data_df_16384 = p_values_with_sample_rate()\n",
    "\n"
   ]
  },
  {
   "cell_type": "markdown",
   "id": "ab931f86",
   "metadata": {},
   "source": [
    "We also check the equality of the numpy arrays to 100% confirm that the distributions are the same. Here we see that the p-values differ by a small margin (in the scale of $10^{-15}$) at to points. At first I thought this was particular to certain values, but on further experimentation, this could most probably be chalked up to floating point precision errors."
   ]
  },
  {
   "cell_type": "code",
   "execution_count": null,
   "id": "d819e2ce",
   "metadata": {},
   "outputs": [],
   "source": [
    "# plt.plot(difference)\n",
    "# plt.xlabel(\"Index\")\n",
    "# plt.ylabel(\"Difference in p-values\")\n",
    "# plt.title(\"Difference in Shapiro p-values (4096 Hz vs. 16384 Hz)\")\n",
    "# plt.show()"
   ]
  },
  {
   "cell_type": "markdown",
   "id": "efc05287",
   "metadata": {},
   "source": [
    "Next would be checking the timeframe over which we conduct the test. This is more likely to change the shapiro values as we are increasing the number of points over which we are doing these calculations."
   ]
  },
  {
   "cell_type": "code",
   "execution_count": null,
   "id": "3957a60b",
   "metadata": {},
   "outputs": [],
   "source": [
    "# def p_values_with_time_width():\n",
    "#     data_df_3 = get_noise_data(selected, tw=3, begin=100, end=150)\n",
    "#     data_df_4 = get_noise_data(selected, tw=4, begin=100, end=150)\n",
    "#     data_df_5 = get_noise_data(selected, tw=5, begin=100, end=150)\n",
    "\n",
    "#     data_df_3['shapiro_pvalue'] = data_df_3['y'].apply(lambda y: stats.shapiro(y).pvalue)\n",
    "#     data_df_4['shapiro_pvalue'] = data_df_4['y'].apply(lambda y: stats.shapiro(y).pvalue)\n",
    "#     data_df_5['shapiro_pvalue'] = data_df_5['y'].apply(lambda y: stats.shapiro(y).pvalue)\n",
    "    \n",
    "#     display_shapiro_stats(data_df_3, 3)\n",
    "#     display_shapiro_stats(data_df_4, 4)\n",
    "#     display_shapiro_stats(data_df_5, 5)\n",
    "\n",
    "#     return data_df_3, data_df_4, data_df_5\n",
    "\n",
    "\n",
    "# data_df_3, data_df_4, data_df_5 = p_values_with_time_width()"
   ]
  },
  {
   "cell_type": "markdown",
   "id": "7858e9fd",
   "metadata": {},
   "source": [
    "My hunch was right. The p-values have changed. This could probably be because we are considering more data points as we increase the time window.\n",
    "\n",
    "Ignoring The outlier, we now focus on values below 0.05"
   ]
  },
  {
   "cell_type": "code",
   "execution_count": null,
   "id": "b4c98f45",
   "metadata": {},
   "outputs": [],
   "source": [
    "# def view_filtered_histograms_tw(threshold = 0.065):\n",
    "#     filtered_3 = data_df_3[data_df_3['shapiro_pvalue'] <= 0.06]\n",
    "#     filtered_4 = data_df_4[data_df_4['shapiro_pvalue'] <= 0.06]\n",
    "#     filtered_5 = data_df_5[data_df_5['shapiro_pvalue'] <= 0.06]\n",
    "\n",
    "#     fig, ax = plt.subplots(1, 3, figsize=(21, 6))\n",
    "\n",
    "#     ax[0].hist(filtered_3['shapiro_pvalue'])\n",
    "#     ax[0].set_xlabel(\"Shapiro p-value\")\n",
    "#     ax[0].set_ylabel(\"Frequency\")\n",
    "#     ax[0].set_title(\"Shapiro p-values ≤ 0.01 (Time Window = 3s)\")\n",
    "\n",
    "\n",
    "#     ax[1].hist(filtered_4['shapiro_pvalue'])\n",
    "#     ax[1].set_xlabel(\"Shapiro p-value\")\n",
    "#     ax[1].set_ylabel(\"Frequency\")\n",
    "#     ax[1].set_title(\"Shapiro p-values ≤ 0.01 (Time Window = 4s)\")\n",
    "\n",
    "#     ax[2].hist(filtered_5['shapiro_pvalue'])\n",
    "#     ax[2].set_xlabel(\"Shapiro p-value\")\n",
    "#     ax[2].set_ylabel(\"Frequency\")\n",
    "#     ax[2].set_title(\"Shapiro p-values ≤ 0.01 (Time Window = 5s)\")\n",
    "#     plt.show()\n",
    "\n",
    "# view_filtered_histograms_tw()"
   ]
  },
  {
   "cell_type": "code",
   "execution_count": null,
   "id": "0db294d9",
   "metadata": {},
   "outputs": [],
   "source": [
    "# fig = plt.figure(figsize=(10, 6))\n",
    "# fig = plt.figure(dpi=200)\n",
    "\n",
    "# plt.plot(data_df_3['shapiro_pvalue'], color='blue', alpha=0.3)\n",
    "# plt.plot(data_df_4['shapiro_pvalue'], color='orange', alpha=0.3)\n",
    "# plt.plot(data_df_5['shapiro_pvalue'], color='green', alpha=0.3)\n",
    "\n",
    "# plt.xlabel('Glitch Instance')\n",
    "# plt.ylabel('p-value')\n",
    "# plt.title('Comparison of Shapiro p-values with differing time windows')\n",
    "# plt.legend(['filtered_3', 'filtered_4', 'filtered_5'])\n",
    "# plt.show()"
   ]
  },
  {
   "cell_type": "markdown",
   "id": "15a9810d",
   "metadata": {},
   "source": [
    "What I find interesting in these graphs is that the p-values for a time window of 3s fluctuate between 0 to 0.04, for 4s, it fluctuates from 0 to 0.005, and for 5s it is between 0 to 0.05\n",
    "\n"
   ]
  },
  {
   "cell_type": "markdown",
   "id": "7691aa15",
   "metadata": {},
   "source": [
    "I now want to investigate the glitch that was classified but was failing this test. I'll use `data_df_tomte` for this"
   ]
  },
  {
   "cell_type": "code",
   "execution_count": null,
   "id": "dffdd434",
   "metadata": {},
   "outputs": [],
   "source": [
    "data_df_tomte['ewm_y'] = data_df_tomte['y'].apply(lambda row: pd.Series(row).ewm(0.9).mean().tolist())\n",
    "# data_df_tomte['ewm_q_transform'] = data_df_tomte['ewm_y'].apply(lambda row: TimeSeries(row, sample_rate=4096).q_transform(qrange=[4,64], frange=[10, 2048], tres=0.002, fres=0.5, whiten=False))\n",
    "data_df_tomte['ewm_q_transform'] = data_df_tomte['ewm_y'].apply(lambda row: TimeSeries(row, sample_rate=4096).q_transform(qrange=[4,64], frange=[10, 2048], tres=0.002, fres=0.5, whiten=False))"
   ]
  },
  {
   "cell_type": "code",
   "execution_count": null,
   "id": "0dd6972b",
   "metadata": {},
   "outputs": [],
   "source": [
    "suspicious_glitch = data_df_tomte[data_df_tomte['shapiro_pvalue'] >= 0.05]\n",
    "suspicious_glitch"
   ]
  },
  {
   "cell_type": "code",
   "execution_count": null,
   "id": "7c1c062f",
   "metadata": {},
   "outputs": [],
   "source": [
    "fig, ax = plt.subplots(1,2, figsize=(12, 6))\n",
    "ax[0].plot(suspicious_glitch['t'].iloc[0], suspicious_glitch['y'].iloc[0], label='Suspicious Glitch')\n",
    "ax[0].set_xlabel(\"Time (s)\")\n",
    "ax[0].set_ylabel(\"Amplitude\")\n",
    "ax[0].legend()\n",
    "\n",
    "ax[1].imshow(suspicious_glitch['q_transform'].iloc[0])\n",
    "ax[1].set_yscale('log', base=2)\n",
    "ax[1].set_xscale('linear')\n",
    "ax[1].set_ylabel('Frequency (Hz)')\n",
    "ax[1].set_xlabel('Time (s)')\n",
    "ax[1].images[0].set_clim(0, 25.5)\n",
    "\n",
    "fig.colorbar(ax[1].images[0], ax=ax[1], label='Normalized energy', orientation='vertical', fraction=0.046, pad=0.04)\n",
    "\n",
    "plt.show()"
   ]
  },
  {
   "cell_type": "code",
   "execution_count": null,
   "id": "764573c7",
   "metadata": {},
   "outputs": [],
   "source": [
    "glitch_idx = 9\n",
    "\n",
    "fig, ax = plt.subplots(1,3, figsize=(24, 6))\n",
    "ax[0].plot(data_df_tomte['t'].iloc[glitch_idx], data_df_tomte['y'].iloc[glitch_idx], label='Suspicious Glitch')\n",
    "ax[0].set_xlabel(\"Time (s)\")\n",
    "ax[0].set_ylabel(\"Amplitude\")\n",
    "ax[0].legend()\n",
    "\n",
    "ax[1].plot(data_df_tomte['t'].iloc[glitch_idx],data_df_tomte[\"noise\"].iloc[glitch_idx], label='Suspicious Glitch')\n",
    "# ax[2].set_xlabel(\"Time (s)\")\n",
    "ax[1].set_ylabel(\"Amplitude\")\n",
    "ax[1].legend()\n",
    "\n",
    "ax[2].imshow(data_df_tomte['q_transform'].iloc[glitch_idx])\n",
    "ax[2].set_yscale('log', base=2)\n",
    "ax[2].set_xscale('linear')\n",
    "ax[2].set_ylabel('Frequency (Hz)')\n",
    "ax[2].set_xlabel('Time (s)')\n",
    "ax[2].images[0].set_clim(0, 25.5)\n",
    "fig.colorbar(ax[2].images[0], ax=ax[2], label='Normalized energy', orientation='vertical', fraction=0.046, pad=0.04)\n",
    "\n",
    "plt.show()"
   ]
  },
  {
   "cell_type": "markdown",
   "id": "3ebc5d10",
   "metadata": {},
   "source": [
    "The glitch with a p-value above 0.05 does look gaussian in the time-amplitude domain, but its q-transform makes it look similar to the other glitches.\n",
    "\n",
    "Now, I want to compare this glitch to the other ones to see if its distribution is similar to theirs and by how much. The Kolmogorov-Smirnov test is suitable for this as it provides a statistic and p-value to work with."
   ]
  },
  {
   "cell_type": "code",
   "execution_count": null,
   "id": "d2206d37",
   "metadata": {},
   "outputs": [],
   "source": [
    "data_df_tomte.columns"
   ]
  },
  {
   "cell_type": "code",
   "execution_count": null,
   "id": "08214f27",
   "metadata": {},
   "outputs": [],
   "source": [
    "sus_y_values = suspicious_glitch.iloc[0]['y']\n",
    "\n",
    "ks_stats = list(data_df_tomte['y'].apply(lambda row: tuple(stats.ks_2samp(row,sus_y_values))))"
   ]
  },
  {
   "cell_type": "code",
   "execution_count": null,
   "id": "77968d8f",
   "metadata": {},
   "outputs": [],
   "source": [
    "ks_stats = pd.DataFrame(ks_stats, columns=['suspicious_KS_statistic', 'suspicious_KS_p_value'])\n",
    "data_df_tomte = data_df_tomte.join(ks_stats[['suspicious_KS_statistic', 'suspicious_KS_statistic']])"
   ]
  },
  {
   "cell_type": "markdown",
   "id": "220181f6",
   "metadata": {},
   "source": [
    "Now that I have the KS statistic and p-values, I can now see how the suspicious glitch here fares with the others"
   ]
  },
  {
   "cell_type": "code",
   "execution_count": null,
   "id": "80f5a5a4",
   "metadata": {},
   "outputs": [],
   "source": [
    "fig, ax = plt.subplots(1,2, figsize=(12, 6))\n",
    "\n",
    "# plt.title(\"Kolmogorov Smirnov Statistic and P-values of data compared to outlier glitch\")\n",
    "ax[0].plot(data_df_tomte['KS_statistic'])\n",
    "ax[0].set_ylabel(\"KS statistic\")\n",
    "ax[0].set_xlabel(\"Glitch Instance\")\n",
    "\n",
    "ax[1].plot(data_df_tomte['KS_p_value'])\n",
    "ax[1].set_ylabel('KS p-value')\n",
    "ax[1].set_xlabel('Glitch Instance')\n",
    "\n",
    "plt.show()"
   ]
  },
  {
   "cell_type": "markdown",
   "id": "4c0643ae",
   "metadata": {},
   "source": [
    "Due to how much this statistic varies with each of the glitches in our sample set, it will probably not be of much use to us in determining whether the glitch that we are studying is similar to the other ones are not. Additionally the KS test doesn't take into consideration the temporal nature of our data, which is problematic.\n",
    "\n",
    "An idea I wanted to try for this was [Dynamic Time Warping](https://en.wikipedia.org/wiki/Dynamic_time_warping). This algorithm can compare the simlarities between two temporal sequences, taking into account their speed (warping). However this assumes there to be a phase shift between the timeseries and does not account for changes in amplitudes. \n",
    "\n",
    "In our case, we would go for something akin to lock-step distance. The main issue however is the whitening that has been done to our signal.\n",
    "\n",
    "Since our signal is being introduced to white noise, it is effectively a vaguely glitch-like white noise signal that we are dealing with. I could try applying a weighted average that would help capture the general trend of the glitch as it moves along, along with either one of the two methods.\n",
    "\n",
    "We first do the lock-step calculations with the glitches directly"
   ]
  },
  {
   "cell_type": "code",
   "execution_count": null,
   "id": "8ca1c17f",
   "metadata": {},
   "outputs": [],
   "source": [
    "def lock_step(sus, row):\n",
    "    return np.sqrt(((sus-row)**2).sum())\n",
    "\n",
    "data_df_tomte['lock_step_distance'] = data_df_tomte['y'].apply(lambda row: lock_step(np.array(row) , np.array(sus_y_values)))"
   ]
  },
  {
   "cell_type": "code",
   "execution_count": null,
   "id": "d0938abe",
   "metadata": {},
   "outputs": [],
   "source": [
    "fig = plt.figure(dpi=100)\n",
    "plt.plot(data_df_tomte['lock_step_distance'])\n",
    "\n",
    "plt.xlabel('Glitch Instance')\n",
    "plt.ylabel('Lock-step distance')\n",
    "plt.title('Lock-step distances of whitened glitches compared to the suspicious glitch')\n",
    "plt.show()"
   ]
  },
  {
   "cell_type": "markdown",
   "id": "f7a5bf3b",
   "metadata": {},
   "source": [
    "We notice that a lot of the lock-step distance values hover around the 5500 t0 6100 range. However there are some points where the variation is extremely high. I want to compare this with th KS statistic to see the parallels."
   ]
  },
  {
   "cell_type": "code",
   "execution_count": null,
   "id": "bdcd9326",
   "metadata": {},
   "outputs": [],
   "source": [
    "fig, ax = plt.subplots(1,2, figsize=(12, 6))\n",
    "\n",
    "ax[0].plot(data_df_tomte['KS_statistic'])\n",
    "ax[0].set_ylabel(\"KS statistic\")\n",
    "ax[0].set_xlabel(\"Glitch Instance\")\n",
    "\n",
    "ax[1].plot(data_df_tomte['lock_step_distance'])\n",
    "ax[1].set_ylabel('Lock-step distance')\n",
    "ax[1].set_xlabel('Glitch Instance')\n",
    "\n",
    "plt.show()"
   ]
  },
  {
   "cell_type": "markdown",
   "id": "4c88d147",
   "metadata": {},
   "source": [
    "We notice that both these plots have spikes at similar points, having a zero value at point 28 (the suspicious glitch).\n",
    "\n",
    "I'll now take the weighted average and do the same. First i want to see what our suspicious glitch looks when taken as a weighted average."
   ]
  },
  {
   "cell_type": "code",
   "execution_count": null,
   "id": "c3e81f47",
   "metadata": {},
   "outputs": [],
   "source": [
    "data_df_tomte.iloc[0]"
   ]
  },
  {
   "cell_type": "code",
   "execution_count": null,
   "id": "d055af5f",
   "metadata": {},
   "outputs": [],
   "source": [
    "fig, ax = plt.subplots(2,2, figsize=(13, 12))\n",
    "ax[0][0].plot(suspicious_glitch['t'].iloc[0], suspicious_glitch['y'].iloc[0], label='Suspicious Glitch')\n",
    "ax[0][0].set_xlabel(\"Time (s)\")\n",
    "ax[0][0].set_ylabel(\"Amplitude\")\n",
    "ax[0][0].legend()\n",
    "\n",
    "ax[0][1].plot(suspicious_glitch['t'].iloc[0], suspicious_glitch['ewm_y'].iloc[0], label='Suspicious Glitch (EWM)')\n",
    "ax[0][1].set_xlabel(\"Time (s)\")\n",
    "ax[0][1].set_ylabel(\"Amplitude\")\n",
    "ax[0][1].legend()\n",
    "# ax[1].images[0].set_clim(0, 25.5)\n",
    "\n",
    "ax[1][0].imshow(suspicious_glitch['q_transform'].iloc[0])\n",
    "ax[1][0].set_yscale('log', base=2)\n",
    "ax[1][0].set_xscale('linear')\n",
    "ax[1][0].set_ylabel('Frequency (Hz)')\n",
    "ax[1][0].set_xlabel('Time (s)')\n",
    "ax[1][0].images[0].set_clim(0, 25.5)\n",
    "fig.colorbar(ax[1][0].images[0], ax=ax[1][0], label='Normalized energy', orientation='vertical', fraction=0.046, pad=0.04)\n",
    "\n",
    "ax[1][1].imshow(suspicious_glitch['ewm_q_transform'].iloc[0])\n",
    "ax[1][1].set_yscale('log', base=2)\n",
    "ax[1][1].set_xscale('linear')\n",
    "ax[1][1].set_ylabel('Frequency (Hz)')\n",
    "ax[1][1].set_xlabel('Time (s)')\n",
    "ax[1][1].images[0].set_clim(0, 25.5)\n",
    "\n",
    "plt.subplots_adjust(wspace=0.4, hspace=0.4)\n",
    "\n",
    "fig.colorbar(ax[1][1].images[0], ax=ax[1][1], label='Normalized energy', orientation='vertical', fraction=0.046, pad=0.04)\n",
    "\n",
    "plt.show()"
   ]
  },
  {
   "cell_type": "markdown",
   "id": "2ef2954b",
   "metadata": {},
   "source": [
    "# Testing EWA on white noise"
   ]
  },
  {
   "cell_type": "code",
   "execution_count": null,
   "id": "4a52f39c",
   "metadata": {},
   "outputs": [],
   "source": [
    "# creating noise\n",
    "example_noise = TimeSeries(np.random.normal(scale=.1, size=4096), sample_rate=4096)\n",
    "print(stats.shapiro(example_noise.value).pvalue)\n",
    "fig = plt.figure(figsize=(18,6))\n",
    "plt.plot(example_noise)\n",
    "plt.xlabel(\"Time (s)\")\n",
    "plt.ylabel(\"Amplitude\")\n",
    "plt.show()"
   ]
  },
  {
   "cell_type": "code",
   "execution_count": null,
   "id": "333fe814",
   "metadata": {},
   "outputs": [],
   "source": [
    "ewm_example_1 = pd.Series(example_noise.value).ewm(0).mean()\n",
    "ewm_example_2 = pd.Series(example_noise.value).ewm(0.5).mean()\n",
    "ewm_example_3 = pd.Series(example_noise.value).ewm(0.8).mean()\n",
    "ewm_example_4 = pd.Series(example_noise.value).ewm(0.9).mean()\n",
    "ewm_example_5 = pd.Series(example_noise.value).ewm(0.98).mean()\n",
    "ewm_example_6 = pd.Series(example_noise.value).ewm(0.9999).mean()"
   ]
  },
  {
   "cell_type": "code",
   "execution_count": null,
   "id": "570ac3b0",
   "metadata": {},
   "outputs": [],
   "source": [
    "fig, ax = plt.subplots(6, 1, figsize=(20,40), sharey=True, dpi=100)\n",
    "\n",
    "ax[0].plot(example_noise.times, ewm_example_1)\n",
    "ax[0].set_xlabel(\"Time (s)\")\n",
    "ax[0].set_ylabel(\"Amplitude\")\n",
    "\n",
    "ax[1].plot(example_noise.times, ewm_example_2)\n",
    "ax[1].set_xlabel(\"Time (s)\")\n",
    "ax[1].set_ylabel(\"Amplitude\")\n",
    "\n",
    "ax[2].plot(example_noise.times, ewm_example_3)\n",
    "ax[2].set_xlabel(\"Time (s)\")\n",
    "ax[2].set_ylabel(\"Amplitude\")\n",
    "\n",
    "ax[3].plot(example_noise.times, ewm_example_4)\n",
    "ax[3].set_xlabel(\"Time (s)\")\n",
    "ax[3].set_ylabel(\"Amplitude\")\n",
    "\n",
    "ax[4].plot(example_noise.times, ewm_example_5)\n",
    "ax[4].set_xlabel(\"Time (s)\")\n",
    "ax[4].set_ylabel(\"Amplitude\")\n",
    "\n",
    "ax[5].plot(example_noise.times, ewm_example_6)\n",
    "ax[5].set_xlabel(\"Time (s)\")\n",
    "ax[5].set_ylabel(\"Amplitude\")\n",
    "\n",
    "plt.show()"
   ]
  },
  {
   "cell_type": "markdown",
   "id": "b6ba4ab0",
   "metadata": {},
   "source": [
    "What's happening here is that the effective values following the first sample are dampened with the following formula\n",
    "\n",
    "$$\\text{ewm}_{t} = \\alpha \\text{ val}_{t} + (1 - \\alpha) \\text{ewm}_{t-1}$$\n",
    "\n",
    "where $\\text{ewm}_{t}$ is the exponentially weighted mean at $t$, and $\\alpha$ is a user defined value between $(0,1)$\n",
    "\n",
    "So at every point, we take into account previous points in our timeseries. Hence, the white noise is not necessarily going to remain as white noise.\n",
    "\n",
    "Also, from a visual standpoint, the glitch seems to be converging to the mean, which in this case is zero since the white noise here is zero centered.\n",
    "\n",
    "# Using the Shapiro Wilks test on smaller parts of a glitch"
   ]
  },
  {
   "cell_type": "markdown",
   "id": "61cf510a",
   "metadata": {},
   "source": [
    "We now take our suspicious glitch and perform the Shapiro-Wilks test on subdomains of it."
   ]
  },
  {
   "cell_type": "code",
   "execution_count": null,
   "id": "a30cd993",
   "metadata": {},
   "outputs": [],
   "source": [
    "_ = normality_tests.display_subdomain_shapiro(suspicious_glitch.iloc[0], 16)"
   ]
  },
  {
   "cell_type": "code",
   "execution_count": null,
   "id": "bf813bf2",
   "metadata": {},
   "outputs": [],
   "source": [
    "_ = normality_tests.display_subdomain_shapiro(suspicious_glitch.iloc[0], 4)"
   ]
  },
  {
   "cell_type": "code",
   "execution_count": null,
   "id": "ece3196b",
   "metadata": {},
   "outputs": [],
   "source": [
    "_ = normality_tests.display_subdomain_shapiro(suspicious_glitch.iloc[0], 3)"
   ]
  },
  {
   "cell_type": "code",
   "execution_count": null,
   "id": "63b50cb8",
   "metadata": {},
   "outputs": [],
   "source": [
    "_ = normality_tests.display_subdomain_shapiro(suspicious_glitch.iloc[0], 9)\n"
   ]
  },
  {
   "cell_type": "markdown",
   "id": "0d185746",
   "metadata": {},
   "source": [
    "From the above plots, we see that the Shapiro-Wilk test works well for subdomains of the glitch samples where it consistently identifies domains not containing the glitch as a \n",
    "\n",
    "# Understanding what the Shapiro-Wilk test tries to do\n",
    "\n",
    "The null hypothesis of this test is that our data comes from a normal distribution. This test only works for univariate, continuous data.\n",
    "\n",
    "Given a sample $x_{1} \\dots x_{n}$, with $n$ as the number of data points the Shapiro-Wilks test statistic is given by $W$ as follows\n",
    "\n",
    "$$\n",
    "W = \\frac{(\\sum_{i=1}^{n}a_{i}x_{(i)})^2}{\\sum_{i=1}^{n}(x_i - \\bar{x})^2}\n",
    "$$\n",
    "\n",
    "If a distribution is normal then, $(\\sum_{i=1}^{n}a_{i}x_{(i)})^2$ should be an estimate of the population's variance $\\sigma^2$\n",
    "\n",
    "The denominator here is also an estimation of population variance $\\sigma^2$\n",
    "\n",
    "So, for our null hypothesis to hold true, $W=1$, since the numerator and denominator are both estimating the variance.\n",
    "\n",
    "For values less than one, it indicates a non-normal distribution\n",
    "\n",
    "### Issues with this test\n",
    "\n",
    "- It won't work well if our data has too many equal values\n",
    "- For a small dataset, our null hypothesis will rarely get rejected\n",
    "- For a large dataset, our null hypothesis will be rejected for tiny differences from normality\n",
    "\n",
    "A large p value doesn't prove that a distribution is normal, but that it is not significantly difference from a normal distribution.\n",
    "\n",
    "### Note\n",
    "\n",
    "Shapiro Wilks test is too sensitive - a histogram/Q-Q plot should be used when assessing t-test/ANOVA assumptions\n",
    "\n",
    "### About \"a\"\n",
    "\n",
    "Taking the numerator\n",
    "\n",
    "$$(\\sum_{i=1}^{n}a_{i}x_{(i)})^2$$\n",
    "\n",
    "Here, $x_{(i)}$ are the [\"order statistics\"](https://youtu.be/gDtkGqLD1R0), that is, the values obtained from the sample when sorted in ascending order.\n",
    "\n",
    "$a_i$ are constants given by\n",
    "\n",
    "$$\n",
    "\\frac{m^TV^{-1}}{||V^{-1}m||}\n",
    "$$\n",
    "\n",
    "Here, $m$ represents a vector of order statistics we would expect from a standard normal distribution.\n",
    "\n",
    "$V$ is the covariance matrix given by\n",
    "\n",
    "$$\n",
    "V = \\mu[X_i - \\mu X_i][X_j - \\mu X_j]\n",
    "$$\n",
    "\n",
    "where $\\mu$ is the expected mean of the distribution.\n",
    "\n",
    "So, for example, if we had two points, $a$ would be $[0.5]$, for 3 points, $[0.375, 0.625]$, for 4 points, $[0.2857, 0.5, 0.7143]$,  and so on.\n",
    "\n",
    "### Q-Q plots\n",
    "\n",
    "These plot quantiles of our data vs expected quantiles of a normal distribution.\n",
    "\n",
    "(Quantile = fraction of points below a given value)\n",
    "![q-q plot](ad_4nxcrzsncc66mesuuafrmu-n91-w2j72w29cr-sb_o5_9y4k4errnbl3ei0req8twyso1snfa3haoctju5kfnadqygfo0micewassf3ljzvx1thwjgoytvchzbxyqmqdsemaovm7beg.avif)\n",
    "\n",
    "# More experimentation with the Exponentially weighted averages\n",
    "\n",
    "A concern I have with exponentially weighted averages is the fact that each of the calculated values depend on a window of values before the current timepoint, hence adding bias to the variance and distribution of every point in the whitened signal. This could lead to a level of non-gaussianity when trying to test our data with the Shapiro-Wilks test. I would like to test this out.\n",
    "\n",
    "Consider the `example_noise` example from before. Here is what it looks like."
   ]
  },
  {
   "cell_type": "code",
   "execution_count": null,
   "id": "00fa0c32",
   "metadata": {},
   "outputs": [],
   "source": [
    "fig = plt.figure(figsize=(18,6))\n",
    "plt.plot(example_noise)\n",
    "plt.xlabel(\"Time (s)\")\n",
    "plt.ylabel(\"Amplitude\")\n",
    "plt.show()\n",
    "\n",
    "print(stats.shapiro(example_noise.value).pvalue)\n",
    "# warnings.filterwarnings(action='once')"
   ]
  },
  {
   "cell_type": "code",
   "execution_count": null,
   "id": "85127b01",
   "metadata": {},
   "outputs": [],
   "source": [
    "fig = plt.figure(figsize=(18,6))\n",
    "plt.plot(ewm_example_5)\n",
    "plt.xlabel(\"Time (s)\")\n",
    "plt.ylabel(\"Amplitude\")\n",
    "plt.show()\n",
    "\n",
    "print(stats.shapiro(ewm_example_5).pvalue)\n",
    "# warnings.filterwarnings(action='once')\n"
   ]
  },
  {
   "cell_type": "markdown",
   "id": "b467e02a",
   "metadata": {},
   "source": [
    "Applying an exponentially weighted average to our data increased the Shapiro test p-value, hence confirming my suspicion. Since exponentially weighted averages supress sudden changes in values, it makes the points seem more uniform than they probably are in reality, hence making this approach unacceptable.\n",
    "\n",
    "However, I do want to see if this could help a bit when there is a glitch in our data. Since the EWA acts as a low-pass filter of sorts, it can attenuate most high amplitudes, while also introducing a bias. In this case, if there exists a glitch, there is a chance that it could be affected by this, putting more of an emphasis on it (p-value <0.05). "
   ]
  },
  {
   "cell_type": "code",
   "execution_count": null,
   "id": "20a8bcee",
   "metadata": {},
   "outputs": [],
   "source": [
    "fig = plt.figure(figsize=(18,6))\n",
    "plt.plot(suspicious_glitch['t'].iloc[0], suspicious_glitch['y'].iloc[0])\n",
    "plt.show()\n",
    "\n",
    "print(stats.shapiro(suspicious_glitch['y'].iloc[0]).pvalue)"
   ]
  },
  {
   "cell_type": "code",
   "execution_count": null,
   "id": "8bc637e0",
   "metadata": {},
   "outputs": [],
   "source": [
    "fig = plt.figure(figsize=(18,6))\n",
    "plt.plot(suspicious_glitch['t'].iloc[0],suspicious_glitch['ewm_y'].iloc[0])\n",
    "plt.show()\n",
    "\n",
    "print(stats.shapiro(suspicious_glitch['ewm_y'].iloc[0]).pvalue)"
   ]
  },
  {
   "cell_type": "markdown",
   "id": "1945e188",
   "metadata": {},
   "source": [
    "As expected, this leads to a huge change in the p-value. I want to study this a bit more in detail for all the 50 selected points. "
   ]
  },
  {
   "cell_type": "code",
   "execution_count": null,
   "id": "d77260a2",
   "metadata": {},
   "outputs": [],
   "source": [
    "data_df_tomte['ewm_shapiro_pvalue'] = data_df_tomte['ewm_y'].apply(lambda y: stats.shapiro(y).pvalue)"
   ]
  },
  {
   "cell_type": "code",
   "execution_count": null,
   "id": "92eb9c2d",
   "metadata": {},
   "outputs": [],
   "source": [
    "# fig,ax = plt.subplots(figsize=(6,10))\n",
    "fig,ax = plt.subplots(dpi=100)\n",
    "plt.plot(data_df_tomte['shapiro_pvalue'], label=\"Shapiro p-value\")\n",
    "plt.plot(data_df_tomte['ewm_shapiro_pvalue'], label=\"Shapiro p-value (EWM)\")\n",
    "ax.set_yscale('log')\n",
    "for i in range(len(data_df_tomte)):\n",
    "    plt.axvline(x=i, color='gray', linestyle='--', linewidth=0.5, alpha=0.5)\n",
    "ax.table(cellText=data_df_tomte[['GPStime','shapiro_pvalue','ewm_shapiro_pvalue']].values, colLabels=['GPStime','shapiro_pvalue','ewm_shapiro_pvalue'], rowLabels=data_df_tomte.index, loc='top')\n",
    "# plt.subplots_adjust(left=0.2, top=0.8)\n",
    "plt.legend(fontsize=8)\n",
    "plt.show()"
   ]
  },
  {
   "cell_type": "markdown",
   "id": "d71c88a4",
   "metadata": {},
   "source": [
    "In the above case, we can see that save for a few points, the Shapiro p-values generally have a drastic decrease when the exponentially weighted average is applied to them. This is understandable since we are aware that these samples have a glitch in them.\n",
    "\n",
    "Below, we perform the same test with a bunch of synthetically generated white noise samples to study whether it has the same effect. The null hyopthesis I have here is that since white noise has several frequencies bounded at the same level of frequencies, the p-value will increase, i.e. all the points in our dataset will be supressed."
   ]
  },
  {
   "cell_type": "code",
   "execution_count": null,
   "id": "65933450",
   "metadata": {},
   "outputs": [],
   "source": [
    "def white_noise_shapiro_values(n=50):\n",
    "    np.random.seed(42)\n",
    "    noise_df = pd.DataFrame(columns=['TimeSeries', 'EWM TimeSeries', 'shapiro_pvalue', 'ewm_shapiro_pvalue'])\n",
    "    for i in range(n):\n",
    "        white_noise = TimeSeries(np.random.normal(scale=.1, size=4096), sample_rate=4096)\n",
    "        white_noise_ewm = pd.Series(white_noise.value).ewm(0.98).mean()\n",
    "        noise_df.loc[len(noise_df)] = [white_noise, white_noise_ewm, stats.shapiro(white_noise.value).pvalue, stats.shapiro(white_noise_ewm).pvalue]\n",
    "    return noise_df\n"
   ]
  },
  {
   "cell_type": "code",
   "execution_count": null,
   "id": "92b9710f",
   "metadata": {},
   "outputs": [],
   "source": [
    "white_noise_examples = white_noise_shapiro_values()"
   ]
  },
  {
   "cell_type": "code",
   "execution_count": null,
   "id": "d14be85b",
   "metadata": {},
   "outputs": [],
   "source": [
    "fig,ax = plt.subplots(dpi=100)\n",
    "plt.plot(white_noise_examples['shapiro_pvalue'], label=\"Shapiro p-value\")\n",
    "plt.plot(white_noise_examples['ewm_shapiro_pvalue'], label=\"Shapiro p-value (EWM)\")\n",
    "# ax.set_yscale('log')\n",
    "for i in range(len(white_noise_examples)):\n",
    "    plt.axvline(x=i, color='gray', linestyle='--', linewidth=0.5, alpha=0.5)\n",
    "ax.table(cellText=white_noise_examples[['shapiro_pvalue','ewm_shapiro_pvalue']].values, colLabels=['shapiro_pvalue','ewm_shapiro_pvalue'], rowLabels=white_noise_examples.index, loc='top')\n",
    "# plt.subplots_adjust(left=0.2, top=0.8)\n",
    "plt.legend(fontsize=8)\n",
    "plt.show()"
   ]
  },
  {
   "cell_type": "markdown",
   "id": "e44df4d3",
   "metadata": {},
   "source": [
    "Here we see that even for gaussian noise there can be variations in the Shapiro p-value both below and above the 0.05 threshold\n",
    "\n",
    "What can be inferred from here is that the exponentially weighted might not be a good approach.\n",
    "\n",
    "Now I want to shift focus back onto normality testing of our dataset. First I want to start plotting Q-Q plots of the data, starting with the suspicious glitch."
   ]
  },
  {
   "cell_type": "code",
   "execution_count": null,
   "id": "f2a645fc",
   "metadata": {},
   "outputs": [],
   "source": [
    "normality_tests.display_probability_plot(suspicious_glitch.iloc[0])"
   ]
  },
  {
   "cell_type": "code",
   "execution_count": null,
   "id": "e9cb2bfa",
   "metadata": {},
   "outputs": [],
   "source": [
    "normality_tests.display_probability_plot(data_df_tomte.iloc[18])"
   ]
  },
  {
   "cell_type": "code",
   "execution_count": null,
   "id": "3add3594-c072-4844-a6b1-0a74fe13cd77",
   "metadata": {},
   "outputs": [],
   "source": [
    "normality_tests.display_probability_plot(data_df_tomte.iloc[10])"
   ]
  },
  {
   "cell_type": "code",
   "execution_count": null,
   "id": "b2503506-3979-42c6-8fd7-dd4ba56ff740",
   "metadata": {},
   "outputs": [],
   "source": [
    "def display_subdomain_qq(data, sample_rate, subdomain_size):\n",
    "    fig, ax = plt.subplots(figsize=(10,10), dpi=100)\n",
    "    subdomain_p_values = []\n",
    "    # print(f\"Sample p-value:{data['shapiro_pvalue']}\")\n",
    "    # print(\"Shapiro p-values\")\n",
    "    # print(\"====================\")\n",
    "    for i in range(0,sample_rate+1,subdomain_size):\n",
    "        x = data['y'][i:i+subdomain_size]\n",
    "        t = np.array(data['t'])[i:i+subdomain_size]\n",
    "        if len(x) > 0:\n",
    "            if not np.isnan(stats.shapiro(x).pvalue):\n",
    "                stats.probplot(data_df_tomte.iloc[10][\"y\"], dist=\"norm\", plot=ax)\n",
    "    \n",
    "    plt.plot(data['t'], data['y'])\n",
    "    plt.title(f\"Shapiro Test P-values for {sample_rate//subdomain_size} subdomains\")\n",
    "    plt.show()"
   ]
  },
  {
   "cell_type": "code",
   "execution_count": null,
   "id": "7dc003c5-9fee-45d9-a595-fae6ebc51f10",
   "metadata": {},
   "outputs": [],
   "source": [
    "plt.plot(suspicious_glitch['y'].iloc[0])"
   ]
  },
  {
   "cell_type": "code",
   "execution_count": null,
   "id": "1bd4decf-fb93-4eb2-83a9-60cffd9df24c",
   "metadata": {},
   "outputs": [],
   "source": [
    "subdomain_list = display_subdomain_shapiro(suspicious_glitch.iloc[0], 21)"
   ]
  },
  {
   "cell_type": "code",
   "execution_count": null,
   "id": "f8e24045",
   "metadata": {},
   "outputs": [],
   "source": [
    "fig,ax = plt.subplots()\n",
    "stats.probplot(subdomain_list[10], dist=\"norm\", plot=ax)\n",
    "plt.show()"
   ]
  },
  {
   "cell_type": "code",
   "execution_count": null,
   "id": "5f6e83b7-d21a-449b-8b48-ddb00e15b198",
   "metadata": {},
   "outputs": [],
   "source": [
    "plt.plot(subdomain_list[10])"
   ]
  },
  {
   "cell_type": "code",
   "execution_count": null,
   "id": "6b32da4c",
   "metadata": {},
   "outputs": [],
   "source": [
    "_ = display_subdomain_shapiro(data_df_tomte.iloc[28], 3)"
   ]
  },
  {
   "cell_type": "code",
   "execution_count": null,
   "id": "67fb31a7",
   "metadata": {},
   "outputs": [],
   "source": [
    "_ = display_subdomain_shapiro(data_df_tomte.iloc[28], 9)"
   ]
  },
  {
   "cell_type": "code",
   "execution_count": null,
   "id": "81c9ff01",
   "metadata": {},
   "outputs": [],
   "source": [
    "normality_tests.display_probability_plot(data_df_tomte.iloc[28])"
   ]
  },
  {
   "cell_type": "code",
   "execution_count": null,
   "id": "d773fc7d",
   "metadata": {},
   "outputs": [],
   "source": [
    "_ = display_subdomain_shapiro(data_df_tomte.iloc[28], 21)"
   ]
  },
  {
   "cell_type": "code",
   "execution_count": null,
   "id": "3243a8e8",
   "metadata": {},
   "outputs": [],
   "source": [
    "_ = display_subdomain_shapiro(data_df_tomte.iloc[18], 9)"
   ]
  },
  {
   "cell_type": "markdown",
   "id": "7d464e79",
   "metadata": {},
   "source": [
    "Up to this point I have tested the gitch with a few statistical tests of normality, mainly focusing on the Shapiro-Wilks test. The initial assumption was that the SW test worked well in identifying the 1 second glitch sample to be non-gaussian due to the low p-values. However, on checking the Q-Q plot of the samples against normal distributions, it is found that the samples are actually more akin to gaussian distributions. On testing with smaller chunks of the signal, the Shapiro-Wilks test is able to consistently identify gaussian and non-gaussian sections of the signal.\n",
    "\n",
    "Hence we see that the test seems to work relatively well when the number of data points per sample is low, however, when we approach a large number of points, say close to 5000, the test fails since the signal represents white noise, giving us a false negatives (Our whitened glitch being identified as gaussian) for a huge portion of our data.\n",
    "\n",
    "A good use case for what we have experimented with till now could be using the Shapiro on the subsection around our glitch (around 0.25 seconds)\n",
    "\n",
    "I now want a function which can allow us to study the sample signal using the Shapiro-Wilks, Kolmogorov-Smirnov and Anderson-Darling tests, while also allowing the isolation of the glitched portions of the data for a better understanding of its gaussuanity. I will also be looking at the skewness and kurtosis of our samples to check by how much each sample differs from a normal distribution."
   ]
  },
  {
   "cell_type": "code",
   "execution_count": null,
   "id": "7c89d70e",
   "metadata": {},
   "outputs": [],
   "source": [
    "def subdomain_statistical_study(data, stat_test=\"Shapiro\", subdomains=1):\n",
    "    '''\n",
    "    A function to calculate the  takes in:\n",
    "    - **data:** A row of glitch information\n",
    "    - **stat_test:** The test being performed on the subdomains (values=[\"Shapiro\", \"KS\", \"Anderson\"], default=\"Shapiro\")\n",
    "    - **subdomains:** The number of subdomains being studied (default=1)\n",
    "    \n",
    "    Response\n",
    "      - Test results related to each of the subdomains of the dataset\n",
    "    '''\n",
    "    \n",
    "    subdomain_size = len(data['y'])//subdomains\n",
    "    subdomain_statistics = []\n",
    "    subdomain_statistic = {}\n",
    "    infotext=\"\"\n",
    "    skew_kurtosis = f\"Kurtosis: {stats.kurtosis(data['y'], fisher=False)}\\nSkew: {stats.skew(data['y'])}\"\n",
    "\n",
    "    print(f\"{stat_test} Statistics\")\n",
    "    print(\"====================\")\n",
    "    # print(stats.ks_1samp(data[\"y\"],stats.norm.cdf))\n",
    "    fig, ax = plt.subplots(3, 1, figsize=(12,12))\n",
    "    plt.suptitle(f\"{stat_test} Test Statistics for {subdomains} subdomains. Subdomain size={subdomain_size}\")\n",
    "    ax[0].plot(data['t'], data['y'])\n",
    "\n",
    "    for count,i in enumerate(range(0, len(data['y']+1), subdomain_size)):\n",
    "        y = data['y'][i:i+subdomain_size]\n",
    "        t = np.array(data['t'])[i:i+subdomain_size]\n",
    "        if len(y) > 0:\n",
    "            if stat_test == \"Shapiro\":\n",
    "                subdomain_statistic = stats.shapiro(y)\n",
    "                text = f\"p={subdomain_statistic.pvalue:.3f}\"\n",
    "                print(subdomain_statistic.pvalue)\n",
    "            elif stat_test == \"KS\":\n",
    "                subdomain_statistic = stats.ks_1samp(y,stats.norm.cdf)\n",
    "                text = f\"p={subdomain_statistic.pvalue:.3f}\"\n",
    "                print(subdomain_statistic.pvalue)\n",
    "            elif stat_test == \"Anderson\":\n",
    "                subdomain_statistic = stats.anderson(y, dist='norm')\n",
    "                if not math.isnan(subdomain_statistic.statistic):\n",
    "                    text = f\"p={subdomain_statistic.statistic:.3f}\"\n",
    "                    print(f\"Subdomain {count+1}: \\nAD Statistic= {subdomain_statistic.statistic}\\nCritical Values={subdomain_statistic.critical_values}\")\n",
    "\n",
    "            subdomain_statistics.append(subdomain_statistic)\n",
    "            \n",
    "            if not np.isnan(subdomain_statistic.statistic):\n",
    "                filled_area = ax[0].fill_between(t, min(y), max(y), alpha=0.5)\n",
    "                (x0, y0), (x1, y1) = filled_area.get_paths()[0].get_extents().get_points()\n",
    "                ax[0].text((x0 + x1) / 2, y1+8, f'{text}', ha='center', va='center', fontsize=8, color='black')\n",
    "    \n",
    "    stats.probplot(data[\"y\"], dist=\"norm\", plot=ax[1])\n",
    "\n",
    "    if stat_test == \"Shapiro\":\n",
    "        infotext = f'GPS Time = {data[\"GPStime\"]}\\nDuration = {data[\"duration\"]}\\nShapiro p-value = {data[\"shapiro_pvalue\"]}\\n'\n",
    "    elif stat_test == \"KS\":\n",
    "        infotext = f'GPS Time = {data[\"GPStime\"]}\\nDuration = {data[\"duration\"]}\\nKS p-value = {stats.ks_1samp(data[\"y\"],stats.norm.cdf).pvalue}\\n'\n",
    "    elif stat_test == \"Anderson\":\n",
    "        ad_stat = stats.anderson(data[\"y\"], dist='norm')\n",
    "        infotext = f'GPS Time = {data[\"GPStime\"]}\\nDuration = {data[\"duration\"]}\\nAD Statistic = {ad_stat.statistic}\\nCritical Values={ad_stat.critical_values}\\nSignificance Level={ad_stat.significance_level}\\n'\n",
    "\n",
    "    ax[2].axis('off')\n",
    "    ax[2].text(0.35, 0.5, infotext+skew_kurtosis, \n",
    "            horizontalalignment='left', \n",
    "            verticalalignment='center', \n",
    "            fontsize=14, \n",
    "            bbox=dict(facecolor='white', edgecolor='black', boxstyle='round,pad=1'))\n",
    "\n",
    "    return subdomain_statistics"
   ]
  },
  {
   "cell_type": "code",
   "execution_count": null,
   "id": "74c0129b",
   "metadata": {},
   "outputs": [],
   "source": [
    "_ = subdomain_statistical_study(suspicious_glitch.iloc[0],stat_test=\"Anderson\", subdomains=9)"
   ]
  },
  {
   "cell_type": "code",
   "execution_count": null,
   "id": "8a07bde8",
   "metadata": {},
   "outputs": [],
   "source": [
    "_ = subdomain_statistical_study(data_df_tomte.iloc[28],stat_test=\"Anderson\", subdomains=9)\n"
   ]
  },
  {
   "cell_type": "code",
   "execution_count": null,
   "id": "bf4708f1",
   "metadata": {},
   "outputs": [],
   "source": [
    "_ = subdomain_statistical_study(data_df_tomte.iloc[28],stat_test=\"Anderson\", subdomains=21)"
   ]
  },
  {
   "cell_type": "code",
   "execution_count": null,
   "id": "1d7ec408",
   "metadata": {},
   "outputs": [],
   "source": [
    "_ = subdomain_statistical_study(data_df_tomte.iloc[28],stat_test=\"Anderson\", subdomains=21)"
   ]
  },
  {
   "cell_type": "code",
   "execution_count": null,
   "id": "e5cc3abc",
   "metadata": {},
   "outputs": [],
   "source": [
    "_ = subdomain_statistical_study(data_df_tomte.iloc[28],stat_test=\"KS\", subdomains=9)"
   ]
  },
  {
   "cell_type": "markdown",
   "id": "d07ea7b1",
   "metadata": {},
   "source": [
    "This glitch, for some reason, fails most of the tests. I want to study it a bit."
   ]
  },
  {
   "cell_type": "markdown",
   "id": "5aac6bd5",
   "metadata": {},
   "source": [
    "[This](https://stats.stackexchange.com/questions/20793/what-is-gaussianity-and-how-do-you-perform-gaussianity-testing-in-macroeconom) stackexchange post goes a bit into testing gaussianity for time series information that could be useful. It, however criticizes the approach of using elliptically symmetric distributions (normal distributions) as a way to test gaussianity of a timeseries."
   ]
  }
 ],
 "metadata": {
  "kernelspec": {
   "display_name": "Python 3",
   "language": "python",
   "name": "python3"
  },
  "language_info": {
   "codemirror_mode": {
    "name": "ipython",
    "version": 3
   },
   "file_extension": ".py",
   "mimetype": "text/x-python",
   "name": "python",
   "nbconvert_exporter": "python",
   "pygments_lexer": "ipython3",
   "version": "3.12.2"
  }
 },
 "nbformat": 4,
 "nbformat_minor": 5
}
